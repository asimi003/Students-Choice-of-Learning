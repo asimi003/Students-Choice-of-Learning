{
 "cells": [
  {
   "cell_type": "code",
   "execution_count": 1,
   "id": "c629cf41-d9a5-4e14-b011-75adc0efcae3",
   "metadata": {},
   "outputs": [],
   "source": [
    "%matplotlib inline\n",
    "import pandas as pd\n",
    "import numpy as np"
   ]
  },
  {
   "cell_type": "code",
   "execution_count": 2,
   "id": "38ac8abb-3a85-4fcb-bb8d-473707de8070",
   "metadata": {},
   "outputs": [
    {
     "data": {
      "text/html": [
       "<div>\n",
       "<style scoped>\n",
       "    .dataframe tbody tr th:only-of-type {\n",
       "        vertical-align: middle;\n",
       "    }\n",
       "\n",
       "    .dataframe tbody tr th {\n",
       "        vertical-align: top;\n",
       "    }\n",
       "\n",
       "    .dataframe thead th {\n",
       "        text-align: right;\n",
       "    }\n",
       "</style>\n",
       "<table border=\"1\" class=\"dataframe\">\n",
       "  <thead>\n",
       "    <tr style=\"text-align: right;\">\n",
       "      <th></th>\n",
       "      <th>To which gender identity do you most identify?</th>\n",
       "      <th>What year are you?</th>\n",
       "      <th>Are you a transfer student?</th>\n",
       "      <th>What is your current GPA?</th>\n",
       "      <th>What was your GPA in Fall 2021?</th>\n",
       "      <th>What was your GPA in Spring 2021?</th>\n",
       "      <th>What is your current housing situation?</th>\n",
       "      <th>What was your housing situation in Fall 2021?</th>\n",
       "      <th>What is your learning style?</th>\n",
       "      <th>On average, how many hours are you on campus per day?</th>\n",
       "      <th>Visual materials (graphs, tables, pictures, etc.) help with my learning.</th>\n",
       "      <th>Hands-on activities (worksheets, in-person labs, class assignments) help with my learning.</th>\n",
       "      <th>Verbal activities (discussions, reading aloud, etc.) help with my learning.</th>\n",
       "      <th>Social interactions are better in-person vs. online.</th>\n",
       "      <th>Even though a hybrid option is available, I try to attend in-person classes whenever they are offered.</th>\n",
       "      <th>I feel more productive when attending class in-person vs. online.</th>\n",
       "      <th>I grasp course material better when attending class in-person vs. online.</th>\n",
       "      <th>Overall, I prefer in-person vs. online.</th>\n",
       "    </tr>\n",
       "  </thead>\n",
       "  <tbody>\n",
       "    <tr>\n",
       "      <th>0</th>\n",
       "      <td>Man</td>\n",
       "      <td>Fourth Year</td>\n",
       "      <td>No</td>\n",
       "      <td>3.50 to 4.00</td>\n",
       "      <td>3.50 to 4.00</td>\n",
       "      <td>3.50 to 4.00</td>\n",
       "      <td>On-campus housing (Dorms, Glen Mor, etc.)</td>\n",
       "      <td>On-campus housing (Dorms, Glen Mor, etc.)</td>\n",
       "      <td>Kinesthetic (hands-on)</td>\n",
       "      <td>24.0</td>\n",
       "      <td>5.0</td>\n",
       "      <td>5.0</td>\n",
       "      <td>5.0</td>\n",
       "      <td>5.0</td>\n",
       "      <td>4.0</td>\n",
       "      <td>5.0</td>\n",
       "      <td>4.0</td>\n",
       "      <td>4.0</td>\n",
       "    </tr>\n",
       "    <tr>\n",
       "      <th>1</th>\n",
       "      <td>Man</td>\n",
       "      <td>Third Year</td>\n",
       "      <td>Yes</td>\n",
       "      <td>3.50 to 4.00</td>\n",
       "      <td>3.50 to 4.00</td>\n",
       "      <td>3.50 to 4.00</td>\n",
       "      <td>On-campus housing (Dorms, Glen Mor, etc.)</td>\n",
       "      <td>On-campus housing (Dorms, Glen Mor, etc.)</td>\n",
       "      <td>Visual</td>\n",
       "      <td>24.0</td>\n",
       "      <td>5.0</td>\n",
       "      <td>5.0</td>\n",
       "      <td>3.0</td>\n",
       "      <td>1.0</td>\n",
       "      <td>5.0</td>\n",
       "      <td>1.0</td>\n",
       "      <td>1.0</td>\n",
       "      <td>1.0</td>\n",
       "    </tr>\n",
       "    <tr>\n",
       "      <th>2</th>\n",
       "      <td>Man</td>\n",
       "      <td>Fourth Year</td>\n",
       "      <td>No</td>\n",
       "      <td>3.50 to 4.00</td>\n",
       "      <td>3.00 to 3.49</td>\n",
       "      <td>3.00 to 3.49</td>\n",
       "      <td>On-campus housing (Dorms, Glen Mor, etc.)</td>\n",
       "      <td>On-campus housing (Dorms, Glen Mor, etc.)</td>\n",
       "      <td>NaN</td>\n",
       "      <td>4.0</td>\n",
       "      <td>5.0</td>\n",
       "      <td>5.0</td>\n",
       "      <td>5.0</td>\n",
       "      <td>5.0</td>\n",
       "      <td>5.0</td>\n",
       "      <td>5.0</td>\n",
       "      <td>5.0</td>\n",
       "      <td>5.0</td>\n",
       "    </tr>\n",
       "    <tr>\n",
       "      <th>3</th>\n",
       "      <td>Woman</td>\n",
       "      <td>Third Year</td>\n",
       "      <td>No</td>\n",
       "      <td>3.50 to 4.00</td>\n",
       "      <td>3.50 to 4.00</td>\n",
       "      <td>3.50 to 4.00</td>\n",
       "      <td>Living at home</td>\n",
       "      <td>Living at home</td>\n",
       "      <td>Kinesthetic (hands-on)</td>\n",
       "      <td>4.0</td>\n",
       "      <td>4.0</td>\n",
       "      <td>5.0</td>\n",
       "      <td>2.0</td>\n",
       "      <td>2.0</td>\n",
       "      <td>4.0</td>\n",
       "      <td>3.0</td>\n",
       "      <td>5.0</td>\n",
       "      <td>3.0</td>\n",
       "    </tr>\n",
       "    <tr>\n",
       "      <th>4</th>\n",
       "      <td>Man</td>\n",
       "      <td>Fourth Year</td>\n",
       "      <td>Yes</td>\n",
       "      <td>3.50 to 4.00</td>\n",
       "      <td>3.00 to 3.49</td>\n",
       "      <td>3.00 to 3.49</td>\n",
       "      <td>Living at home</td>\n",
       "      <td>Off-campus housing</td>\n",
       "      <td>Kinesthetic (hands-on)</td>\n",
       "      <td>0.0</td>\n",
       "      <td>5.0</td>\n",
       "      <td>5.0</td>\n",
       "      <td>2.0</td>\n",
       "      <td>4.0</td>\n",
       "      <td>1.0</td>\n",
       "      <td>1.0</td>\n",
       "      <td>1.0</td>\n",
       "      <td>1.0</td>\n",
       "    </tr>\n",
       "  </tbody>\n",
       "</table>\n",
       "</div>"
      ],
      "text/plain": [
       "  To which gender identity do you most identify? What year are you?  \\\n",
       "0                                            Man        Fourth Year   \n",
       "1                                            Man         Third Year   \n",
       "2                                            Man        Fourth Year   \n",
       "3                                          Woman         Third Year   \n",
       "4                                            Man        Fourth Year   \n",
       "\n",
       "  Are you a transfer student? What is your current GPA?   \\\n",
       "0                          No               3.50 to 4.00   \n",
       "1                         Yes               3.50 to 4.00   \n",
       "2                          No               3.50 to 4.00   \n",
       "3                          No               3.50 to 4.00   \n",
       "4                         Yes               3.50 to 4.00   \n",
       "\n",
       "  What was your GPA in Fall 2021? What was your GPA in Spring 2021?  \\\n",
       "0                    3.50 to 4.00                      3.50 to 4.00   \n",
       "1                    3.50 to 4.00                      3.50 to 4.00   \n",
       "2                    3.00 to 3.49                      3.00 to 3.49   \n",
       "3                    3.50 to 4.00                      3.50 to 4.00   \n",
       "4                    3.00 to 3.49                      3.00 to 3.49   \n",
       "\n",
       "     What is your current housing situation?  \\\n",
       "0  On-campus housing (Dorms, Glen Mor, etc.)   \n",
       "1  On-campus housing (Dorms, Glen Mor, etc.)   \n",
       "2  On-campus housing (Dorms, Glen Mor, etc.)   \n",
       "3                             Living at home   \n",
       "4                             Living at home   \n",
       "\n",
       "  What was your housing situation in Fall 2021? What is your learning style?  \\\n",
       "0     On-campus housing (Dorms, Glen Mor, etc.)       Kinesthetic (hands-on)   \n",
       "1     On-campus housing (Dorms, Glen Mor, etc.)                       Visual   \n",
       "2     On-campus housing (Dorms, Glen Mor, etc.)                          NaN   \n",
       "3                                Living at home       Kinesthetic (hands-on)   \n",
       "4                            Off-campus housing       Kinesthetic (hands-on)   \n",
       "\n",
       "   On average, how many hours are you on campus per day?  \\\n",
       "0                                               24.0       \n",
       "1                                               24.0       \n",
       "2                                                4.0       \n",
       "3                                                4.0       \n",
       "4                                                0.0       \n",
       "\n",
       "   Visual materials (graphs, tables, pictures, etc.) help with my learning.  \\\n",
       "0                                                5.0                          \n",
       "1                                                5.0                          \n",
       "2                                                5.0                          \n",
       "3                                                4.0                          \n",
       "4                                                5.0                          \n",
       "\n",
       "   Hands-on activities (worksheets, in-person labs, class assignments) help with my learning.  \\\n",
       "0                                                5.0                                            \n",
       "1                                                5.0                                            \n",
       "2                                                5.0                                            \n",
       "3                                                5.0                                            \n",
       "4                                                5.0                                            \n",
       "\n",
       "   Verbal activities (discussions, reading aloud, etc.) help with my learning.  \\\n",
       "0                                                5.0                             \n",
       "1                                                3.0                             \n",
       "2                                                5.0                             \n",
       "3                                                2.0                             \n",
       "4                                                2.0                             \n",
       "\n",
       "   Social interactions are better in-person vs. online.  \\\n",
       "0                                                5.0      \n",
       "1                                                1.0      \n",
       "2                                                5.0      \n",
       "3                                                2.0      \n",
       "4                                                4.0      \n",
       "\n",
       "   Even though a hybrid option is available, I try to attend in-person classes whenever they are offered.  \\\n",
       "0                                                4.0                                                        \n",
       "1                                                5.0                                                        \n",
       "2                                                5.0                                                        \n",
       "3                                                4.0                                                        \n",
       "4                                                1.0                                                        \n",
       "\n",
       "   I feel more productive when attending class in-person vs. online.  \\\n",
       "0                                                5.0                   \n",
       "1                                                1.0                   \n",
       "2                                                5.0                   \n",
       "3                                                3.0                   \n",
       "4                                                1.0                   \n",
       "\n",
       "   I grasp course material better when attending class in-person vs. online.  \\\n",
       "0                                                4.0                           \n",
       "1                                                1.0                           \n",
       "2                                                5.0                           \n",
       "3                                                5.0                           \n",
       "4                                                1.0                           \n",
       "\n",
       "   Overall, I prefer in-person vs. online.  \n",
       "0                                      4.0  \n",
       "1                                      1.0  \n",
       "2                                      5.0  \n",
       "3                                      3.0  \n",
       "4                                      1.0  "
      ]
     },
     "execution_count": 2,
     "metadata": {},
     "output_type": "execute_result"
    }
   ],
   "source": [
    "df = pd.read_csv(\"Data Needed.csv\")\n",
    "df.head()"
   ]
  },
  {
   "cell_type": "code",
   "execution_count": 3,
   "id": "69ad6715-191f-4160-8360-73f1e7323198",
   "metadata": {},
   "outputs": [
    {
     "data": {
      "text/html": [
       "<div>\n",
       "<style scoped>\n",
       "    .dataframe tbody tr th:only-of-type {\n",
       "        vertical-align: middle;\n",
       "    }\n",
       "\n",
       "    .dataframe tbody tr th {\n",
       "        vertical-align: top;\n",
       "    }\n",
       "\n",
       "    .dataframe thead th {\n",
       "        text-align: right;\n",
       "    }\n",
       "</style>\n",
       "<table border=\"1\" class=\"dataframe\">\n",
       "  <thead>\n",
       "    <tr style=\"text-align: right;\">\n",
       "      <th></th>\n",
       "      <th>To which gender identity do you most identify?</th>\n",
       "      <th>What year are you?</th>\n",
       "      <th>Are you a transfer student?</th>\n",
       "      <th>What is your current GPA?</th>\n",
       "      <th>What was your GPA in Fall 2021?</th>\n",
       "      <th>What was your GPA in Spring 2021?</th>\n",
       "      <th>What is your current housing situation?</th>\n",
       "      <th>What was your housing situation in Fall 2021?</th>\n",
       "      <th>What is your learning style?</th>\n",
       "      <th>On average, how many hours are you on campus per day?</th>\n",
       "      <th>Visual materials (graphs, tables, pictures, etc.) help with my learning.</th>\n",
       "      <th>Hands-on activities (worksheets, in-person labs, class assignments) help with my learning.</th>\n",
       "      <th>Verbal activities (discussions, reading aloud, etc.) help with my learning.</th>\n",
       "      <th>Social interactions are better in-person vs. online.</th>\n",
       "      <th>Even though a hybrid option is available, I try to attend in-person classes whenever they are offered.</th>\n",
       "      <th>I feel more productive when attending class in-person vs. online.</th>\n",
       "      <th>I grasp course material better when attending class in-person vs. online.</th>\n",
       "      <th>Overall, I prefer in-person vs. online.</th>\n",
       "    </tr>\n",
       "  </thead>\n",
       "  <tbody>\n",
       "    <tr>\n",
       "      <th>0</th>\n",
       "      <td>Man</td>\n",
       "      <td>Fourth Year</td>\n",
       "      <td>No</td>\n",
       "      <td>3.50 to 4.00</td>\n",
       "      <td>3.50 to 4.00</td>\n",
       "      <td>3.50 to 4.00</td>\n",
       "      <td>On-campus housing (Dorms, Glen Mor, etc.)</td>\n",
       "      <td>On-campus housing (Dorms, Glen Mor, etc.)</td>\n",
       "      <td>Kinesthetic (hands-on)</td>\n",
       "      <td>24.0</td>\n",
       "      <td>5.0</td>\n",
       "      <td>5.0</td>\n",
       "      <td>5.0</td>\n",
       "      <td>5.0</td>\n",
       "      <td>4.0</td>\n",
       "      <td>5.0</td>\n",
       "      <td>4.0</td>\n",
       "      <td>4.0</td>\n",
       "    </tr>\n",
       "    <tr>\n",
       "      <th>1</th>\n",
       "      <td>Man</td>\n",
       "      <td>Third Year</td>\n",
       "      <td>Yes</td>\n",
       "      <td>3.50 to 4.00</td>\n",
       "      <td>3.50 to 4.00</td>\n",
       "      <td>3.50 to 4.00</td>\n",
       "      <td>On-campus housing (Dorms, Glen Mor, etc.)</td>\n",
       "      <td>On-campus housing (Dorms, Glen Mor, etc.)</td>\n",
       "      <td>Visual</td>\n",
       "      <td>24.0</td>\n",
       "      <td>5.0</td>\n",
       "      <td>5.0</td>\n",
       "      <td>3.0</td>\n",
       "      <td>-5.0</td>\n",
       "      <td>5.0</td>\n",
       "      <td>-5.0</td>\n",
       "      <td>-5.0</td>\n",
       "      <td>1.0</td>\n",
       "    </tr>\n",
       "    <tr>\n",
       "      <th>2</th>\n",
       "      <td>Man</td>\n",
       "      <td>Fourth Year</td>\n",
       "      <td>No</td>\n",
       "      <td>3.50 to 4.00</td>\n",
       "      <td>3.00 to 3.49</td>\n",
       "      <td>3.00 to 3.49</td>\n",
       "      <td>On-campus housing (Dorms, Glen Mor, etc.)</td>\n",
       "      <td>On-campus housing (Dorms, Glen Mor, etc.)</td>\n",
       "      <td>NaN</td>\n",
       "      <td>4.0</td>\n",
       "      <td>5.0</td>\n",
       "      <td>5.0</td>\n",
       "      <td>5.0</td>\n",
       "      <td>5.0</td>\n",
       "      <td>5.0</td>\n",
       "      <td>5.0</td>\n",
       "      <td>5.0</td>\n",
       "      <td>5.0</td>\n",
       "    </tr>\n",
       "    <tr>\n",
       "      <th>3</th>\n",
       "      <td>Woman</td>\n",
       "      <td>Third Year</td>\n",
       "      <td>No</td>\n",
       "      <td>3.50 to 4.00</td>\n",
       "      <td>3.50 to 4.00</td>\n",
       "      <td>3.50 to 4.00</td>\n",
       "      <td>Living at home</td>\n",
       "      <td>Living at home</td>\n",
       "      <td>Kinesthetic (hands-on)</td>\n",
       "      <td>4.0</td>\n",
       "      <td>4.0</td>\n",
       "      <td>5.0</td>\n",
       "      <td>2.0</td>\n",
       "      <td>-4.0</td>\n",
       "      <td>4.0</td>\n",
       "      <td>0.0</td>\n",
       "      <td>5.0</td>\n",
       "      <td>0.0</td>\n",
       "    </tr>\n",
       "    <tr>\n",
       "      <th>4</th>\n",
       "      <td>Man</td>\n",
       "      <td>Fourth Year</td>\n",
       "      <td>Yes</td>\n",
       "      <td>3.50 to 4.00</td>\n",
       "      <td>3.00 to 3.49</td>\n",
       "      <td>3.00 to 3.49</td>\n",
       "      <td>Living at home</td>\n",
       "      <td>Off-campus housing</td>\n",
       "      <td>Kinesthetic (hands-on)</td>\n",
       "      <td>0.0</td>\n",
       "      <td>5.0</td>\n",
       "      <td>5.0</td>\n",
       "      <td>2.0</td>\n",
       "      <td>4.0</td>\n",
       "      <td>-5.0</td>\n",
       "      <td>-5.0</td>\n",
       "      <td>-5.0</td>\n",
       "      <td>1.0</td>\n",
       "    </tr>\n",
       "    <tr>\n",
       "      <th>...</th>\n",
       "      <td>...</td>\n",
       "      <td>...</td>\n",
       "      <td>...</td>\n",
       "      <td>...</td>\n",
       "      <td>...</td>\n",
       "      <td>...</td>\n",
       "      <td>...</td>\n",
       "      <td>...</td>\n",
       "      <td>...</td>\n",
       "      <td>...</td>\n",
       "      <td>...</td>\n",
       "      <td>...</td>\n",
       "      <td>...</td>\n",
       "      <td>...</td>\n",
       "      <td>...</td>\n",
       "      <td>...</td>\n",
       "      <td>...</td>\n",
       "      <td>...</td>\n",
       "    </tr>\n",
       "    <tr>\n",
       "      <th>72</th>\n",
       "      <td>Man</td>\n",
       "      <td>Fourth Year</td>\n",
       "      <td>Yes</td>\n",
       "      <td>3.50 to 4.00</td>\n",
       "      <td>3.50 to 4.00</td>\n",
       "      <td>3.50 to 4.00</td>\n",
       "      <td>Off-campus housing</td>\n",
       "      <td>Off-campus housing</td>\n",
       "      <td>Auditory</td>\n",
       "      <td>1.0</td>\n",
       "      <td>5.0</td>\n",
       "      <td>5.0</td>\n",
       "      <td>5.0</td>\n",
       "      <td>5.0</td>\n",
       "      <td>-4.0</td>\n",
       "      <td>4.0</td>\n",
       "      <td>0.0</td>\n",
       "      <td>2.0</td>\n",
       "    </tr>\n",
       "    <tr>\n",
       "      <th>73</th>\n",
       "      <td>Man</td>\n",
       "      <td>Fourth Year</td>\n",
       "      <td>Yes</td>\n",
       "      <td>3.50 to 4.00</td>\n",
       "      <td>3.50 to 4.00</td>\n",
       "      <td>3.50 to 4.00</td>\n",
       "      <td>Off-campus housing</td>\n",
       "      <td>Off-campus housing</td>\n",
       "      <td>Other</td>\n",
       "      <td>2.0</td>\n",
       "      <td>5.0</td>\n",
       "      <td>5.0</td>\n",
       "      <td>5.0</td>\n",
       "      <td>4.0</td>\n",
       "      <td>0.0</td>\n",
       "      <td>4.0</td>\n",
       "      <td>4.0</td>\n",
       "      <td>0.0</td>\n",
       "    </tr>\n",
       "    <tr>\n",
       "      <th>74</th>\n",
       "      <td>Man</td>\n",
       "      <td>Fourth Year</td>\n",
       "      <td>No</td>\n",
       "      <td>3.50 to 4.00</td>\n",
       "      <td>3.50 to 4.00</td>\n",
       "      <td>3.50 to 4.00</td>\n",
       "      <td>On-campus housing (Dorms, Glen Mor, etc.)</td>\n",
       "      <td>On-campus housing (Dorms, Glen Mor, etc.)</td>\n",
       "      <td>Visual</td>\n",
       "      <td>4.0</td>\n",
       "      <td>5.0</td>\n",
       "      <td>5.0</td>\n",
       "      <td>4.0</td>\n",
       "      <td>4.0</td>\n",
       "      <td>4.0</td>\n",
       "      <td>4.0</td>\n",
       "      <td>4.0</td>\n",
       "      <td>4.0</td>\n",
       "    </tr>\n",
       "    <tr>\n",
       "      <th>75</th>\n",
       "      <td>Man</td>\n",
       "      <td>Fifth Year or higher</td>\n",
       "      <td>Yes</td>\n",
       "      <td>3.00 to 3.49</td>\n",
       "      <td>3.00 to 3.49</td>\n",
       "      <td>3.00 to 3.49</td>\n",
       "      <td>Living at home</td>\n",
       "      <td>Living at home</td>\n",
       "      <td>Kinesthetic (hands-on)</td>\n",
       "      <td>6.0</td>\n",
       "      <td>4.0</td>\n",
       "      <td>4.0</td>\n",
       "      <td>3.0</td>\n",
       "      <td>5.0</td>\n",
       "      <td>4.0</td>\n",
       "      <td>5.0</td>\n",
       "      <td>4.0</td>\n",
       "      <td>4.0</td>\n",
       "    </tr>\n",
       "    <tr>\n",
       "      <th>76</th>\n",
       "      <td>Man</td>\n",
       "      <td>Fifth Year or higher</td>\n",
       "      <td>Yes</td>\n",
       "      <td>3.00 to 3.49</td>\n",
       "      <td>3.00 to 3.49</td>\n",
       "      <td>3.00 to 3.49</td>\n",
       "      <td>Living at home</td>\n",
       "      <td>Living at home</td>\n",
       "      <td>Kinesthetic (hands-on)</td>\n",
       "      <td>0.0</td>\n",
       "      <td>4.0</td>\n",
       "      <td>5.0</td>\n",
       "      <td>3.0</td>\n",
       "      <td>4.0</td>\n",
       "      <td>-5.0</td>\n",
       "      <td>4.0</td>\n",
       "      <td>4.0</td>\n",
       "      <td>0.0</td>\n",
       "    </tr>\n",
       "  </tbody>\n",
       "</table>\n",
       "<p>77 rows × 18 columns</p>\n",
       "</div>"
      ],
      "text/plain": [
       "   To which gender identity do you most identify?    What year are you?  \\\n",
       "0                                             Man           Fourth Year   \n",
       "1                                             Man            Third Year   \n",
       "2                                             Man           Fourth Year   \n",
       "3                                           Woman            Third Year   \n",
       "4                                             Man           Fourth Year   \n",
       "..                                            ...                   ...   \n",
       "72                                            Man           Fourth Year   \n",
       "73                                            Man           Fourth Year   \n",
       "74                                            Man           Fourth Year   \n",
       "75                                            Man  Fifth Year or higher   \n",
       "76                                            Man  Fifth Year or higher   \n",
       "\n",
       "   Are you a transfer student? What is your current GPA?   \\\n",
       "0                           No               3.50 to 4.00   \n",
       "1                          Yes               3.50 to 4.00   \n",
       "2                           No               3.50 to 4.00   \n",
       "3                           No               3.50 to 4.00   \n",
       "4                          Yes               3.50 to 4.00   \n",
       "..                         ...                        ...   \n",
       "72                         Yes               3.50 to 4.00   \n",
       "73                         Yes               3.50 to 4.00   \n",
       "74                          No               3.50 to 4.00   \n",
       "75                         Yes               3.00 to 3.49   \n",
       "76                         Yes               3.00 to 3.49   \n",
       "\n",
       "   What was your GPA in Fall 2021? What was your GPA in Spring 2021?  \\\n",
       "0                     3.50 to 4.00                      3.50 to 4.00   \n",
       "1                     3.50 to 4.00                      3.50 to 4.00   \n",
       "2                     3.00 to 3.49                      3.00 to 3.49   \n",
       "3                     3.50 to 4.00                      3.50 to 4.00   \n",
       "4                     3.00 to 3.49                      3.00 to 3.49   \n",
       "..                             ...                               ...   \n",
       "72                    3.50 to 4.00                      3.50 to 4.00   \n",
       "73                    3.50 to 4.00                      3.50 to 4.00   \n",
       "74                    3.50 to 4.00                      3.50 to 4.00   \n",
       "75                    3.00 to 3.49                      3.00 to 3.49   \n",
       "76                    3.00 to 3.49                      3.00 to 3.49   \n",
       "\n",
       "      What is your current housing situation?  \\\n",
       "0   On-campus housing (Dorms, Glen Mor, etc.)   \n",
       "1   On-campus housing (Dorms, Glen Mor, etc.)   \n",
       "2   On-campus housing (Dorms, Glen Mor, etc.)   \n",
       "3                              Living at home   \n",
       "4                              Living at home   \n",
       "..                                        ...   \n",
       "72                         Off-campus housing   \n",
       "73                         Off-campus housing   \n",
       "74  On-campus housing (Dorms, Glen Mor, etc.)   \n",
       "75                             Living at home   \n",
       "76                             Living at home   \n",
       "\n",
       "   What was your housing situation in Fall 2021? What is your learning style?  \\\n",
       "0      On-campus housing (Dorms, Glen Mor, etc.)       Kinesthetic (hands-on)   \n",
       "1      On-campus housing (Dorms, Glen Mor, etc.)                       Visual   \n",
       "2      On-campus housing (Dorms, Glen Mor, etc.)                          NaN   \n",
       "3                                 Living at home       Kinesthetic (hands-on)   \n",
       "4                             Off-campus housing       Kinesthetic (hands-on)   \n",
       "..                                           ...                          ...   \n",
       "72                            Off-campus housing                     Auditory   \n",
       "73                            Off-campus housing                        Other   \n",
       "74     On-campus housing (Dorms, Glen Mor, etc.)                       Visual   \n",
       "75                                Living at home       Kinesthetic (hands-on)   \n",
       "76                                Living at home       Kinesthetic (hands-on)   \n",
       "\n",
       "    On average, how many hours are you on campus per day?  \\\n",
       "0                                                24.0       \n",
       "1                                                24.0       \n",
       "2                                                 4.0       \n",
       "3                                                 4.0       \n",
       "4                                                 0.0       \n",
       "..                                                ...       \n",
       "72                                                1.0       \n",
       "73                                                2.0       \n",
       "74                                                4.0       \n",
       "75                                                6.0       \n",
       "76                                                0.0       \n",
       "\n",
       "    Visual materials (graphs, tables, pictures, etc.) help with my learning.  \\\n",
       "0                                                 5.0                          \n",
       "1                                                 5.0                          \n",
       "2                                                 5.0                          \n",
       "3                                                 4.0                          \n",
       "4                                                 5.0                          \n",
       "..                                                ...                          \n",
       "72                                                5.0                          \n",
       "73                                                5.0                          \n",
       "74                                                5.0                          \n",
       "75                                                4.0                          \n",
       "76                                                4.0                          \n",
       "\n",
       "    Hands-on activities (worksheets, in-person labs, class assignments) help with my learning.  \\\n",
       "0                                                 5.0                                            \n",
       "1                                                 5.0                                            \n",
       "2                                                 5.0                                            \n",
       "3                                                 5.0                                            \n",
       "4                                                 5.0                                            \n",
       "..                                                ...                                            \n",
       "72                                                5.0                                            \n",
       "73                                                5.0                                            \n",
       "74                                                5.0                                            \n",
       "75                                                4.0                                            \n",
       "76                                                5.0                                            \n",
       "\n",
       "    Verbal activities (discussions, reading aloud, etc.) help with my learning.  \\\n",
       "0                                                 5.0                             \n",
       "1                                                 3.0                             \n",
       "2                                                 5.0                             \n",
       "3                                                 2.0                             \n",
       "4                                                 2.0                             \n",
       "..                                                ...                             \n",
       "72                                                5.0                             \n",
       "73                                                5.0                             \n",
       "74                                                4.0                             \n",
       "75                                                3.0                             \n",
       "76                                                3.0                             \n",
       "\n",
       "    Social interactions are better in-person vs. online.  \\\n",
       "0                                                 5.0      \n",
       "1                                                -5.0      \n",
       "2                                                 5.0      \n",
       "3                                                -4.0      \n",
       "4                                                 4.0      \n",
       "..                                                ...      \n",
       "72                                                5.0      \n",
       "73                                                4.0      \n",
       "74                                                4.0      \n",
       "75                                                5.0      \n",
       "76                                                4.0      \n",
       "\n",
       "    Even though a hybrid option is available, I try to attend in-person classes whenever they are offered.  \\\n",
       "0                                                 4.0                                                        \n",
       "1                                                 5.0                                                        \n",
       "2                                                 5.0                                                        \n",
       "3                                                 4.0                                                        \n",
       "4                                                -5.0                                                        \n",
       "..                                                ...                                                        \n",
       "72                                               -4.0                                                        \n",
       "73                                                0.0                                                        \n",
       "74                                                4.0                                                        \n",
       "75                                                4.0                                                        \n",
       "76                                               -5.0                                                        \n",
       "\n",
       "    I feel more productive when attending class in-person vs. online.  \\\n",
       "0                                                 5.0                   \n",
       "1                                                -5.0                   \n",
       "2                                                 5.0                   \n",
       "3                                                 0.0                   \n",
       "4                                                -5.0                   \n",
       "..                                                ...                   \n",
       "72                                                4.0                   \n",
       "73                                                4.0                   \n",
       "74                                                4.0                   \n",
       "75                                                5.0                   \n",
       "76                                                4.0                   \n",
       "\n",
       "    I grasp course material better when attending class in-person vs. online.  \\\n",
       "0                                                 4.0                           \n",
       "1                                                -5.0                           \n",
       "2                                                 5.0                           \n",
       "3                                                 5.0                           \n",
       "4                                                -5.0                           \n",
       "..                                                ...                           \n",
       "72                                                0.0                           \n",
       "73                                                4.0                           \n",
       "74                                                4.0                           \n",
       "75                                                4.0                           \n",
       "76                                                4.0                           \n",
       "\n",
       "    Overall, I prefer in-person vs. online.  \n",
       "0                                       4.0  \n",
       "1                                       1.0  \n",
       "2                                       5.0  \n",
       "3                                       0.0  \n",
       "4                                       1.0  \n",
       "..                                      ...  \n",
       "72                                      2.0  \n",
       "73                                      0.0  \n",
       "74                                      4.0  \n",
       "75                                      4.0  \n",
       "76                                      0.0  \n",
       "\n",
       "[77 rows x 18 columns]"
      ]
     },
     "execution_count": 3,
     "metadata": {},
     "output_type": "execute_result"
    }
   ],
   "source": [
    "df[\"Overall, I prefer in-person vs. online.\"].replace(3,0,inplace=True)\n",
    "df[\"Social interactions are better in-person vs. online.\"].replace([1,2,3],[-5,-4,0],inplace=True)\n",
    "df[\"Even though a hybrid option is available, I try to attend in-person classes whenever they are offered.\"].replace([1,2,3],[-5,-4,0],inplace=True)\n",
    "df[\"I feel more productive when attending class in-person vs. online.\"].replace([1,2,3],[-5,-4,0],inplace=True)\n",
    "df[\"I grasp course material better when attending class in-person vs. online.\"].replace([1,2,3],[-5,-4,0],inplace=True)\n",
    "df"
   ]
  },
  {
   "cell_type": "code",
   "execution_count": 4,
   "id": "534a77ce-05f5-4cb6-9e13-0bc740edf7ea",
   "metadata": {},
   "outputs": [],
   "source": [
    "df.drop([57], inplace=True)\n",
    "df.drop([65], inplace =True)"
   ]
  },
  {
   "cell_type": "markdown",
   "id": "c73401a5-bdef-4f40-8eec-3bff3d76b870",
   "metadata": {},
   "source": [
    "## 3.1 Comparing GPA of Fall 2021/Spring 2021 with Overall School Preferrence"
   ]
  },
  {
   "cell_type": "markdown",
   "id": "a2b119c7-68e0-4f86-b68f-3938d09c5770",
   "metadata": {},
   "source": [
    "## Hypothesis #3.1: \n",
    "We hypothesize that students prefer online school more than in-person school because they perform better GPAs wise when learning online.  "
   ]
  },
  {
   "cell_type": "code",
   "execution_count": 5,
   "id": "1634cbb3-661a-448c-9da9-cf8a73e3e89a",
   "metadata": {},
   "outputs": [
    {
     "data": {
      "text/plain": [
       "<AxesSubplot:xlabel='School Preference'>"
      ]
     },
     "execution_count": 5,
     "metadata": {},
     "output_type": "execute_result"
    },
    {
     "data": {
      "image/png": "[encoded data removed]",
      "text/plain": [
       "<Figure size 432x288 with 1 Axes>"
      ]
     },
     "metadata": {
      "needs_background": "light"
     },
     "output_type": "display_data"
    }
   ],
   "source": [
    "def school_preference (row):\n",
    "   if row['Overall, I prefer in-person vs. online.'] == 0 :\n",
    "      return 'Neutral'\n",
    "   if row['Overall, I prefer in-person vs. online.'] == 5 :\n",
    "      return 'Online'\n",
    "   if row['Overall, I prefer in-person vs. online.'] == 4 :\n",
    "      return 'Online'\n",
    "   if row['Overall, I prefer in-person vs. online.'] == 1 :\n",
    "      return 'In-Person'\n",
    "   if row['Overall, I prefer in-person vs. online.'] == 2 :\n",
    "      return 'In-Person'\n",
    "    \n",
    "df['School Preference'] = df.apply (lambda row: school_preference(row), axis=1)\n",
    "df['count'] = 1\n",
    "df\n",
    "\n",
    "df_fall_2021_gpa = df.pivot_table(values=[\"count\"], index=[\"School Preference\"], columns=[\"What was your GPA in Fall 2021?\"], aggfunc=np.sum, fill_value=0)\n",
    "df_fall_2021_gpa.fillna(1).plot.bar()"
   ]
  },
  {
   "cell_type": "code",
   "execution_count": 6,
   "id": "034e373c-c4b4-41bf-9a5e-f395e8fbee47",
   "metadata": {},
   "outputs": [
    {
     "data": {
      "text/html": [
       "<div>\n",
       "<style scoped>\n",
       "    .dataframe tbody tr th:only-of-type {\n",
       "        vertical-align: middle;\n",
       "    }\n",
       "\n",
       "    .dataframe tbody tr th {\n",
       "        vertical-align: top;\n",
       "    }\n",
       "\n",
       "    .dataframe thead tr th {\n",
       "        text-align: left;\n",
       "    }\n",
       "\n",
       "    .dataframe thead tr:last-of-type th {\n",
       "        text-align: right;\n",
       "    }\n",
       "</style>\n",
       "<table border=\"1\" class=\"dataframe\">\n",
       "  <thead>\n",
       "    <tr>\n",
       "      <th></th>\n",
       "      <th colspan=\"3\" halign=\"left\">count</th>\n",
       "    </tr>\n",
       "    <tr>\n",
       "      <th>What was your GPA in Fall 2021?</th>\n",
       "      <th>2.50 to 2.99</th>\n",
       "      <th>3.00 to 3.49</th>\n",
       "      <th>3.50 to 4.00</th>\n",
       "    </tr>\n",
       "    <tr>\n",
       "      <th>School Preference</th>\n",
       "      <th></th>\n",
       "      <th></th>\n",
       "      <th></th>\n",
       "    </tr>\n",
       "  </thead>\n",
       "  <tbody>\n",
       "    <tr>\n",
       "      <th>In-Person</th>\n",
       "      <td>0</td>\n",
       "      <td>5</td>\n",
       "      <td>15</td>\n",
       "    </tr>\n",
       "    <tr>\n",
       "      <th>Neutral</th>\n",
       "      <td>1</td>\n",
       "      <td>4</td>\n",
       "      <td>15</td>\n",
       "    </tr>\n",
       "    <tr>\n",
       "      <th>Online</th>\n",
       "      <td>1</td>\n",
       "      <td>13</td>\n",
       "      <td>21</td>\n",
       "    </tr>\n",
       "  </tbody>\n",
       "</table>\n",
       "</div>"
      ],
      "text/plain": [
       "                                       count                          \n",
       "What was your GPA in Fall 2021? 2.50 to 2.99 3.00 to 3.49 3.50 to 4.00\n",
       "School Preference                                                     \n",
       "In-Person                                  0            5           15\n",
       "Neutral                                    1            4           15\n",
       "Online                                     1           13           21"
      ]
     },
     "execution_count": 6,
     "metadata": {},
     "output_type": "execute_result"
    }
   ],
   "source": [
    "df_fall_2021_gpa"
   ]
  },
  {
   "cell_type": "markdown",
   "id": "0af04710-276e-4179-9547-713d0169ff52",
   "metadata": {},
   "source": [
    "## Result:\n",
    "according to this chart and bar graph, students who prefered online classes performed better than the rest gpa wise <br>\n",
    "even though fall 2021 was mostly in-person"
   ]
  },
  {
   "cell_type": "markdown",
   "id": "b30499aa-f050-4972-bb32-6eeafb0a2227",
   "metadata": {},
   "source": [
    "## Test #3.1 (Pearson and Chi-Squared):"
   ]
  },
  {
   "cell_type": "code",
   "execution_count": 7,
   "id": "a8f0288e-128f-481a-878f-e0e940c654f8",
   "metadata": {},
   "outputs": [
    {
     "name": "stdout",
     "output_type": "stream",
     "text": [
      "chi square value:  3.013750954927425\n",
      "p value:  0.5555268537649303\n",
      "degree of freedom:  4\n",
      "when Fall 2021 GPA and overall school preference are independent:  [[ 0.53333333  5.86666667 13.6       ]\n",
      " [ 0.53333333  5.86666667 13.6       ]\n",
      " [ 0.93333333 10.26666667 23.8       ]]\n",
      "for 4 degrees of freedom, the chi-square valued needed to reject the hypothesis at the 0.001 significance level:\n"
     ]
    },
    {
     "data": {
      "text/plain": [
       "18.46682695290317"
      ]
     },
     "execution_count": 7,
     "metadata": {},
     "output_type": "execute_result"
    }
   ],
   "source": [
    "from scipy.stats import chi2_contingency\n",
    "chi, p, dfree, expected = chi2_contingency(df_fall_2021_gpa)\n",
    "print(\"chi square value: \" ,chi)\n",
    "print(\"p value: \", p)\n",
    "print(\"degree of freedom: \", dfree)\n",
    "print(\"when Fall 2021 GPA and overall school preference are independent: \", expected)\n",
    "from scipy.stats import chi2\n",
    "print(\"for 4 degrees of freedom, the chi-square valued needed to reject the hypothesis at the 0.001 significance level:\")\n",
    "chi2.ppf(0.999, 4)"
   ]
  },
  {
   "cell_type": "raw",
   "id": "dd42e95c-dac7-4185-9514-e0ea4b2725bd",
   "metadata": {},
   "source": [
    "null hypothesis: (3 attributes) 2.5 to 2.99, 3.0 to 3.49, and 3.5 to 4.0 are indepedent\n",
    "alternative hypothesis: (3 attributes) 2.5 to 2.99, 3.0 to 3.49, and 3.5 to 4.0 are correlated\n",
    "we fail to reject our null hypothesis because the chi-square value is 3.013 which is smaller than the value we need of 18.466\n"
   ]
  },
  {
   "cell_type": "code",
   "execution_count": 8,
   "id": "c8396033-dd85-43e1-8332-e07ea4aea95d",
   "metadata": {},
   "outputs": [
    {
     "data": {
      "text/html": [
       "<div>\n",
       "<style scoped>\n",
       "    .dataframe tbody tr th:only-of-type {\n",
       "        vertical-align: middle;\n",
       "    }\n",
       "\n",
       "    .dataframe tbody tr th {\n",
       "        vertical-align: top;\n",
       "    }\n",
       "\n",
       "    .dataframe thead tr th {\n",
       "        text-align: left;\n",
       "    }\n",
       "\n",
       "    .dataframe thead tr:last-of-type th {\n",
       "        text-align: right;\n",
       "    }\n",
       "</style>\n",
       "<table border=\"1\" class=\"dataframe\">\n",
       "  <thead>\n",
       "    <tr>\n",
       "      <th></th>\n",
       "      <th></th>\n",
       "      <th colspan=\"3\" halign=\"left\">count</th>\n",
       "    </tr>\n",
       "    <tr>\n",
       "      <th></th>\n",
       "      <th>What was your GPA in Fall 2021?</th>\n",
       "      <th>2.50 to 2.99</th>\n",
       "      <th>3.00 to 3.49</th>\n",
       "      <th>3.50 to 4.00</th>\n",
       "    </tr>\n",
       "    <tr>\n",
       "      <th></th>\n",
       "      <th>What was your GPA in Fall 2021?</th>\n",
       "      <th></th>\n",
       "      <th></th>\n",
       "      <th></th>\n",
       "    </tr>\n",
       "  </thead>\n",
       "  <tbody>\n",
       "    <tr>\n",
       "      <th rowspan=\"3\" valign=\"top\">count</th>\n",
       "      <th>2.50 to 2.99</th>\n",
       "      <td>1.000000</td>\n",
       "      <td>0.409644</td>\n",
       "      <td>0.50000</td>\n",
       "    </tr>\n",
       "    <tr>\n",
       "      <th>3.00 to 3.49</th>\n",
       "      <td>0.409644</td>\n",
       "      <td>1.000000</td>\n",
       "      <td>0.99485</td>\n",
       "    </tr>\n",
       "    <tr>\n",
       "      <th>3.50 to 4.00</th>\n",
       "      <td>0.500000</td>\n",
       "      <td>0.994850</td>\n",
       "      <td>1.00000</td>\n",
       "    </tr>\n",
       "  </tbody>\n",
       "</table>\n",
       "</div>"
      ],
      "text/plain": [
       "                                             count                          \n",
       "What was your GPA in Fall 2021?       2.50 to 2.99 3.00 to 3.49 3.50 to 4.00\n",
       "      What was your GPA in Fall 2021?                                       \n",
       "count 2.50 to 2.99                        1.000000     0.409644      0.50000\n",
       "      3.00 to 3.49                        0.409644     1.000000      0.99485\n",
       "      3.50 to 4.00                        0.500000     0.994850      1.00000"
      ]
     },
     "execution_count": 8,
     "metadata": {},
     "output_type": "execute_result"
    }
   ],
   "source": [
    "r1 = df_fall_2021_gpa.corr(method='pearson')\n",
    "r1"
   ]
  },
  {
   "cell_type": "code",
   "execution_count": 9,
   "id": "786a129b",
   "metadata": {},
   "outputs": [
    {
     "data": {
      "text/plain": [
       "<AxesSubplot:xlabel='School Preference'>"
      ]
     },
     "execution_count": 9,
     "metadata": {},
     "output_type": "execute_result"
    },
    {
     "data": {
      "image/png": "[encoded data removed]",
      "text/plain": [
       "<Figure size 432x288 with 1 Axes>"
      ]
     },
     "metadata": {
      "needs_background": "light"
     },
     "output_type": "display_data"
    }
   ],
   "source": [
    "df_spring_2021_gpa = df.pivot_table(values=[\"count\"], index=[\"School Preference\"], columns=[\"What was your GPA in Spring 2021?\"], aggfunc=np.sum, fill_value=0)\n",
    "df_spring_2021_gpa.fillna(1).plot.bar()"
   ]
  },
  {
   "cell_type": "code",
   "execution_count": 10,
   "id": "edd14727-df8c-4c9b-bf2a-64b3d3d09e2d",
   "metadata": {},
   "outputs": [
    {
     "data": {
      "text/html": [
       "<div>\n",
       "<style scoped>\n",
       "    .dataframe tbody tr th:only-of-type {\n",
       "        vertical-align: middle;\n",
       "    }\n",
       "\n",
       "    .dataframe tbody tr th {\n",
       "        vertical-align: top;\n",
       "    }\n",
       "\n",
       "    .dataframe thead tr th {\n",
       "        text-align: left;\n",
       "    }\n",
       "\n",
       "    .dataframe thead tr:last-of-type th {\n",
       "        text-align: right;\n",
       "    }\n",
       "</style>\n",
       "<table border=\"1\" class=\"dataframe\">\n",
       "  <thead>\n",
       "    <tr>\n",
       "      <th></th>\n",
       "      <th colspan=\"4\" halign=\"left\">count</th>\n",
       "    </tr>\n",
       "    <tr>\n",
       "      <th>What was your GPA in Spring 2021?</th>\n",
       "      <th>1.50 to 1.99</th>\n",
       "      <th>2.50 to 2.99</th>\n",
       "      <th>3.00 to 3.49</th>\n",
       "      <th>3.50 to 4.00</th>\n",
       "    </tr>\n",
       "    <tr>\n",
       "      <th>School Preference</th>\n",
       "      <th></th>\n",
       "      <th></th>\n",
       "      <th></th>\n",
       "      <th></th>\n",
       "    </tr>\n",
       "  </thead>\n",
       "  <tbody>\n",
       "    <tr>\n",
       "      <th>In-Person</th>\n",
       "      <td>0</td>\n",
       "      <td>1</td>\n",
       "      <td>3</td>\n",
       "      <td>16</td>\n",
       "    </tr>\n",
       "    <tr>\n",
       "      <th>Neutral</th>\n",
       "      <td>0</td>\n",
       "      <td>0</td>\n",
       "      <td>2</td>\n",
       "      <td>18</td>\n",
       "    </tr>\n",
       "    <tr>\n",
       "      <th>Online</th>\n",
       "      <td>1</td>\n",
       "      <td>2</td>\n",
       "      <td>10</td>\n",
       "      <td>21</td>\n",
       "    </tr>\n",
       "  </tbody>\n",
       "</table>\n",
       "</div>"
      ],
      "text/plain": [
       "                                         count                            \\\n",
       "What was your GPA in Spring 2021? 1.50 to 1.99 2.50 to 2.99 3.00 to 3.49   \n",
       "School Preference                                                          \n",
       "In-Person                                    0            1            3   \n",
       "Neutral                                      0            0            2   \n",
       "Online                                       1            2           10   \n",
       "\n",
       "                                                \n",
       "What was your GPA in Spring 2021? 3.50 to 4.00  \n",
       "School Preference                               \n",
       "In-Person                                   16  \n",
       "Neutral                                     18  \n",
       "Online                                      21  "
      ]
     },
     "execution_count": 10,
     "metadata": {},
     "output_type": "execute_result"
    }
   ],
   "source": [
    "df_spring_2021_gpa"
   ]
  },
  {
   "cell_type": "markdown",
   "id": "26cefd5d-7fdc-4957-ac3d-1c00de275414",
   "metadata": {},
   "source": [
    "## Result:\n",
    "according to this chart and bar graph, students who prefered online classes performed better than the rest gpa wise <br>\n",
    "spring 2021 was fully online which matches the info that we found <br>\n",
    "taking both quarters into consideration, it seems that students who prefer online classes do better regardless of school being taught online or in-person <br>\n",
    "this supports our hypothesis that students prefer online school due to better academic performance <br>"
   ]
  },
  {
   "cell_type": "markdown",
   "id": "13faac6d-caf2-42b8-9c60-e5fef3672306",
   "metadata": {},
   "source": [
    "## Test #3.1 (Pearson and Chi-Squared):"
   ]
  },
  {
   "cell_type": "code",
   "execution_count": 11,
   "id": "d45927b8-16ed-4cf0-b22e-44b4a28bc0ff",
   "metadata": {},
   "outputs": [
    {
     "name": "stdout",
     "output_type": "stream",
     "text": [
      "chi square value:  6.497754010695187\n",
      "p value:  0.3697966807300705\n",
      "degree of freedom:  6\n",
      "when Spring 2021 GPA and overall school preference are independent:  [[ 0.27027027  0.81081081  4.05405405 14.86486486]\n",
      " [ 0.27027027  0.81081081  4.05405405 14.86486486]\n",
      " [ 0.45945946  1.37837838  6.89189189 25.27027027]]\n",
      "for 6 degrees of freedom, the chi-square valued needed to reject the hypothesis at the 0.001 significance level:\n"
     ]
    },
    {
     "data": {
      "text/plain": [
       "22.457744484825323"
      ]
     },
     "execution_count": 11,
     "metadata": {},
     "output_type": "execute_result"
    }
   ],
   "source": [
    "from scipy.stats import chi2_contingency\n",
    "chi, p, dfree, expected = chi2_contingency(df_spring_2021_gpa)\n",
    "print(\"chi square value: \" ,chi)\n",
    "print(\"p value: \", p)\n",
    "print(\"degree of freedom: \", dfree)\n",
    "print(\"when Spring 2021 GPA and overall school preference are independent: \", expected)\n",
    "from scipy.stats import chi2\n",
    "print(\"for 6 degrees of freedom, the chi-square valued needed to reject the hypothesis at the 0.001 significance level:\")\n",
    "chi2.ppf(0.999, 6)"
   ]
  },
  {
   "cell_type": "raw",
   "id": "a44b7bdd-f641-4244-97a1-aad89d933a8e",
   "metadata": {},
   "source": [
    "null hypothesis: (4 attributes) 1.5 to 1.99, 2.5 to 2.99, 3.0 to 3.49, and 3.5 to 4.0 are indepedent\n",
    "alternative hypothesis: (3 attributes) 1.5 to 1.99, 2.5 to 2.99, 3.0 to 3.49, and 3.5 to 4.0 are correlated\n",
    "we fail to reject our null hypothesis because the chi-square value is 3.013 which is smaller than the value we need of 22.457\n"
   ]
  },
  {
   "cell_type": "code",
   "execution_count": 12,
   "id": "74e3c55a-2d60-44ee-8a44-5fe0ca858798",
   "metadata": {},
   "outputs": [
    {
     "data": {
      "text/html": [
       "<div>\n",
       "<style scoped>\n",
       "    .dataframe tbody tr th:only-of-type {\n",
       "        vertical-align: middle;\n",
       "    }\n",
       "\n",
       "    .dataframe tbody tr th {\n",
       "        vertical-align: top;\n",
       "    }\n",
       "\n",
       "    .dataframe thead tr th {\n",
       "        text-align: left;\n",
       "    }\n",
       "\n",
       "    .dataframe thead tr:last-of-type th {\n",
       "        text-align: right;\n",
       "    }\n",
       "</style>\n",
       "<table border=\"1\" class=\"dataframe\">\n",
       "  <thead>\n",
       "    <tr>\n",
       "      <th></th>\n",
       "      <th></th>\n",
       "      <th colspan=\"4\" halign=\"left\">count</th>\n",
       "    </tr>\n",
       "    <tr>\n",
       "      <th></th>\n",
       "      <th>What was your GPA in Spring 2021?</th>\n",
       "      <th>1.50 to 1.99</th>\n",
       "      <th>2.50 to 2.99</th>\n",
       "      <th>3.00 to 3.49</th>\n",
       "      <th>3.50 to 4.00</th>\n",
       "    </tr>\n",
       "    <tr>\n",
       "      <th></th>\n",
       "      <th>What was your GPA in Spring 2021?</th>\n",
       "      <th></th>\n",
       "      <th></th>\n",
       "      <th></th>\n",
       "      <th></th>\n",
       "    </tr>\n",
       "  </thead>\n",
       "  <tbody>\n",
       "    <tr>\n",
       "      <th rowspan=\"4\" valign=\"top\">count</th>\n",
       "      <th>1.50 to 1.99</th>\n",
       "      <td>1.000000</td>\n",
       "      <td>0.866025</td>\n",
       "      <td>0.993399</td>\n",
       "      <td>0.917663</td>\n",
       "    </tr>\n",
       "    <tr>\n",
       "      <th>2.50 to 2.99</th>\n",
       "      <td>0.866025</td>\n",
       "      <td>1.000000</td>\n",
       "      <td>0.917663</td>\n",
       "      <td>0.596040</td>\n",
       "    </tr>\n",
       "    <tr>\n",
       "      <th>3.00 to 3.49</th>\n",
       "      <td>0.993399</td>\n",
       "      <td>0.917663</td>\n",
       "      <td>1.000000</td>\n",
       "      <td>0.866025</td>\n",
       "    </tr>\n",
       "    <tr>\n",
       "      <th>3.50 to 4.00</th>\n",
       "      <td>0.917663</td>\n",
       "      <td>0.596040</td>\n",
       "      <td>0.866025</td>\n",
       "      <td>1.000000</td>\n",
       "    </tr>\n",
       "  </tbody>\n",
       "</table>\n",
       "</div>"
      ],
      "text/plain": [
       "                                               count               \\\n",
       "What was your GPA in Spring 2021?       1.50 to 1.99 2.50 to 2.99   \n",
       "      What was your GPA in Spring 2021?                             \n",
       "count 1.50 to 1.99                          1.000000     0.866025   \n",
       "      2.50 to 2.99                          0.866025     1.000000   \n",
       "      3.00 to 3.49                          0.993399     0.917663   \n",
       "      3.50 to 4.00                          0.917663     0.596040   \n",
       "\n",
       "                                                                   \n",
       "What was your GPA in Spring 2021?       3.00 to 3.49 3.50 to 4.00  \n",
       "      What was your GPA in Spring 2021?                            \n",
       "count 1.50 to 1.99                          0.993399     0.917663  \n",
       "      2.50 to 2.99                          0.917663     0.596040  \n",
       "      3.00 to 3.49                          1.000000     0.866025  \n",
       "      3.50 to 4.00                          0.866025     1.000000  "
      ]
     },
     "execution_count": 12,
     "metadata": {},
     "output_type": "execute_result"
    }
   ],
   "source": [
    "r1 = df_spring_2021_gpa.corr(method='pearson')\n",
    "r1"
   ]
  },
  {
   "cell_type": "markdown",
   "id": "3aeefd91-853f-4b7e-8950-438d17210602",
   "metadata": {},
   "source": [
    "## 3.2 Comparing Learning Style Preferrence and Overall School Preferrence "
   ]
  },
  {
   "cell_type": "markdown",
   "id": "04ef44f7-f4c0-45ff-92b5-2c9ef5c96cba",
   "metadata": {},
   "source": [
    "## Hypothesis #3.2: \n",
    "We hypothesize that kinesthetic learners will prefer in-person school due to more hands-on activities and learners who prefer reading/visual would like online school more due to more visuals and the ability to google search and read easily. "
   ]
  },
  {
   "cell_type": "code",
   "execution_count": 13,
   "id": "de520091-06a4-495d-b54c-2067262e726f",
   "metadata": {},
   "outputs": [
    {
     "data": {
      "text/html": [
       "<div>\n",
       "<style scoped>\n",
       "    .dataframe tbody tr th:only-of-type {\n",
       "        vertical-align: middle;\n",
       "    }\n",
       "\n",
       "    .dataframe tbody tr th {\n",
       "        vertical-align: top;\n",
       "    }\n",
       "\n",
       "    .dataframe thead th {\n",
       "        text-align: right;\n",
       "    }\n",
       "</style>\n",
       "<table border=\"1\" class=\"dataframe\">\n",
       "  <thead>\n",
       "    <tr style=\"text-align: right;\">\n",
       "      <th>What is your learning style?</th>\n",
       "      <th>Auditory</th>\n",
       "      <th>Kinesthetic (hands-on)</th>\n",
       "      <th>Other</th>\n",
       "      <th>Reading and Writing</th>\n",
       "      <th>Visual</th>\n",
       "    </tr>\n",
       "    <tr>\n",
       "      <th>School Preference</th>\n",
       "      <th></th>\n",
       "      <th></th>\n",
       "      <th></th>\n",
       "      <th></th>\n",
       "      <th></th>\n",
       "    </tr>\n",
       "  </thead>\n",
       "  <tbody>\n",
       "    <tr>\n",
       "      <th>In-Person</th>\n",
       "      <td>2</td>\n",
       "      <td>6</td>\n",
       "      <td>2</td>\n",
       "      <td>2</td>\n",
       "      <td>8</td>\n",
       "    </tr>\n",
       "    <tr>\n",
       "      <th>Neutral</th>\n",
       "      <td>0</td>\n",
       "      <td>7</td>\n",
       "      <td>1</td>\n",
       "      <td>1</td>\n",
       "      <td>11</td>\n",
       "    </tr>\n",
       "    <tr>\n",
       "      <th>Online</th>\n",
       "      <td>3</td>\n",
       "      <td>13</td>\n",
       "      <td>1</td>\n",
       "      <td>5</td>\n",
       "      <td>12</td>\n",
       "    </tr>\n",
       "  </tbody>\n",
       "</table>\n",
       "</div>"
      ],
      "text/plain": [
       "What is your learning style?  Auditory  Kinesthetic (hands-on)  Other  \\\n",
       "School Preference                                                       \n",
       "In-Person                            2                       6      2   \n",
       "Neutral                              0                       7      1   \n",
       "Online                               3                      13      1   \n",
       "\n",
       "What is your learning style?  Reading and Writing  Visual  \n",
       "School Preference                                          \n",
       "In-Person                                       2       8  \n",
       "Neutral                                         1      11  \n",
       "Online                                          5      12  "
      ]
     },
     "execution_count": 13,
     "metadata": {},
     "output_type": "execute_result"
    },
    {
     "data": {
      "image/png": "[encoded data removed]",
      "text/plain": [
       "<Figure size 432x288 with 2 Axes>"
      ]
     },
     "metadata": {
      "needs_background": "light"
     },
     "output_type": "display_data"
    }
   ],
   "source": [
    "import seaborn as sns\n",
    "schoolPref_vs_learningStyle = pd.crosstab(df[\"School Preference\"], df[\"What is your learning style?\"])\n",
    "sns.heatmap(schoolPref_vs_learningStyle)\n",
    "schoolPref_vs_learningStyle\n",
    "\n",
    "# according to this heat map and table, it is suprising to see that most of the kinesthetic learners prefer online classes instead of in-person classes\n",
    "# we can also see that many visual learners prefer online classes which makes sense because teachers often use slides and other online demonstrations when teaching through Zoom\n",
    "# Reading and writing is also interesting because most of those learners prefer online classes possibly due to the ability to quickly Google search questions and read about them\n",
    "# This visual and information backs up our original hypothesis of kids liking/performing better in school because reading and visual learning is better online"
   ]
  },
  {
   "cell_type": "markdown",
   "id": "4029a006-d814-4d24-9ab9-11739e142429",
   "metadata": {},
   "source": [
    "## Result:\n",
    "According to this heat map and table, it is suprising to see that most of the kinesthetic learners prefer online classes instead of in-person classes <br>\n",
    "We can also see that many visual learners prefer online classes which makes sense because teachers often use slides and other online demonstrations when teaching through Zoom <br>\n",
    "Reading and writing is also interesting because most of those learners prefer online classes possibly due to the ability to quickly Google search questions and read about them <br>\n",
    "This visual and information backs up our original hypothesis of kids liking/performing better in school because reading and visual learning is better online <br>"
   ]
  },
  {
   "cell_type": "markdown",
   "id": "045ef5e3-111e-49c5-91d5-70af01324f10",
   "metadata": {},
   "source": [
    "## Test #3.2 (Pearson and Chi-Squared):"
   ]
  },
  {
   "cell_type": "code",
   "execution_count": 14,
   "id": "c08e6639-d608-4f53-aef6-7dadc554be44",
   "metadata": {},
   "outputs": [
    {
     "name": "stdout",
     "output_type": "stream",
     "text": [
      "chi square value:  5.594650051087432\n",
      "p value:  0.6925325138128452\n",
      "degree of freedom:  8\n",
      "when learning style and overall school preference are independent:  [[ 1.35135135  7.02702703  1.08108108  2.16216216  8.37837838]\n",
      " [ 1.35135135  7.02702703  1.08108108  2.16216216  8.37837838]\n",
      " [ 2.2972973  11.94594595  1.83783784  3.67567568 14.24324324]]\n",
      "for 8 degrees of freedom, the chi-square valued needed to reject the hypothesis at the 0.001 significance level:\n"
     ]
    },
    {
     "data": {
      "text/plain": [
       "26.12448155837614"
      ]
     },
     "execution_count": 14,
     "metadata": {},
     "output_type": "execute_result"
    }
   ],
   "source": [
    "from scipy.stats import chi2_contingency\n",
    "chi, p, dfree, expected = chi2_contingency(schoolPref_vs_learningStyle)\n",
    "print(\"chi square value: \" ,chi)\n",
    "print(\"p value: \", p)\n",
    "print(\"degree of freedom: \", dfree)\n",
    "print(\"when learning style and overall school preference are independent: \", expected)\n",
    "from scipy.stats import chi2\n",
    "print(\"for 8 degrees of freedom, the chi-square valued needed to reject the hypothesis at the 0.001 significance level:\")\n",
    "chi2.ppf(0.999, 8)\n"
   ]
  },
  {
   "cell_type": "raw",
   "id": "7ec01320-2ab2-4615-827f-f91aa820f47d",
   "metadata": {},
   "source": [
    "null hypothesis: (5 attributes) auditory, kinesthetic, other, reading and writing, and visual are indepedent\n",
    "alternative hypothesis: (5 attributes) auditory, kinesthetic, other, reading and writing, and visual are correlated\n",
    "we fail to reject our null hypothesis because the chi-square value is 5.594 which is smaller than the value we need of 26.124\n"
   ]
  },
  {
   "cell_type": "code",
   "execution_count": 15,
   "id": "c691c9ee-9a5c-410c-afc3-7bcad8c3bcc3",
   "metadata": {},
   "outputs": [
    {
     "data": {
      "text/html": [
       "<div>\n",
       "<style scoped>\n",
       "    .dataframe tbody tr th:only-of-type {\n",
       "        vertical-align: middle;\n",
       "    }\n",
       "\n",
       "    .dataframe tbody tr th {\n",
       "        vertical-align: top;\n",
       "    }\n",
       "\n",
       "    .dataframe thead th {\n",
       "        text-align: right;\n",
       "    }\n",
       "</style>\n",
       "<table border=\"1\" class=\"dataframe\">\n",
       "  <thead>\n",
       "    <tr style=\"text-align: right;\">\n",
       "      <th>What is your learning style?</th>\n",
       "      <th>Auditory</th>\n",
       "      <th>Kinesthetic (hands-on)</th>\n",
       "      <th>Other</th>\n",
       "      <th>Reading and Writing</th>\n",
       "      <th>Visual</th>\n",
       "    </tr>\n",
       "    <tr>\n",
       "      <th>What is your learning style?</th>\n",
       "      <th></th>\n",
       "      <th></th>\n",
       "      <th></th>\n",
       "      <th></th>\n",
       "      <th></th>\n",
       "    </tr>\n",
       "  </thead>\n",
       "  <tbody>\n",
       "    <tr>\n",
       "      <th>Auditory</th>\n",
       "      <td>1.000000</td>\n",
       "      <td>0.662849</td>\n",
       "      <td>0.188982</td>\n",
       "      <td>0.891042</td>\n",
       "      <td>0.052414</td>\n",
       "    </tr>\n",
       "    <tr>\n",
       "      <th>Kinesthetic (hands-on)</th>\n",
       "      <td>0.662849</td>\n",
       "      <td>1.000000</td>\n",
       "      <td>-0.609994</td>\n",
       "      <td>0.930501</td>\n",
       "      <td>0.782467</td>\n",
       "    </tr>\n",
       "    <tr>\n",
       "      <th>Other</th>\n",
       "      <td>0.188982</td>\n",
       "      <td>-0.609994</td>\n",
       "      <td>1.000000</td>\n",
       "      <td>-0.277350</td>\n",
       "      <td>-0.970725</td>\n",
       "    </tr>\n",
       "    <tr>\n",
       "      <th>Reading and Writing</th>\n",
       "      <td>0.891042</td>\n",
       "      <td>0.930501</td>\n",
       "      <td>-0.277350</td>\n",
       "      <td>1.000000</td>\n",
       "      <td>0.500000</td>\n",
       "    </tr>\n",
       "    <tr>\n",
       "      <th>Visual</th>\n",
       "      <td>0.052414</td>\n",
       "      <td>0.782467</td>\n",
       "      <td>-0.970725</td>\n",
       "      <td>0.500000</td>\n",
       "      <td>1.000000</td>\n",
       "    </tr>\n",
       "  </tbody>\n",
       "</table>\n",
       "</div>"
      ],
      "text/plain": [
       "What is your learning style?  Auditory  Kinesthetic (hands-on)     Other  \\\n",
       "What is your learning style?                                               \n",
       "Auditory                      1.000000                0.662849  0.188982   \n",
       "Kinesthetic (hands-on)        0.662849                1.000000 -0.609994   \n",
       "Other                         0.188982               -0.609994  1.000000   \n",
       "Reading and Writing           0.891042                0.930501 -0.277350   \n",
       "Visual                        0.052414                0.782467 -0.970725   \n",
       "\n",
       "What is your learning style?  Reading and Writing    Visual  \n",
       "What is your learning style?                                 \n",
       "Auditory                                 0.891042  0.052414  \n",
       "Kinesthetic (hands-on)                   0.930501  0.782467  \n",
       "Other                                   -0.277350 -0.970725  \n",
       "Reading and Writing                      1.000000  0.500000  \n",
       "Visual                                   0.500000  1.000000  "
      ]
     },
     "execution_count": 15,
     "metadata": {},
     "output_type": "execute_result"
    }
   ],
   "source": [
    "r1 = schoolPref_vs_learningStyle.corr(method='pearson')\n",
    "r1"
   ]
  },
  {
   "cell_type": "markdown",
   "id": "739c4485-0c71-4133-8f6d-734eb0650874",
   "metadata": {},
   "source": [
    "## 3.3 Relationship between transfer/non transfer student and preference of school method"
   ]
  },
  {
   "cell_type": "markdown",
   "id": "8211970a-d072-4284-b3c9-bc9d35b6264d",
   "metadata": {},
   "source": [
    "## Hypothesis #3.3:\n",
    "Students' preferences of in_person and online methods have a correlation with whether students are transfer students or not. We assumed that transfer sutdent would like to prefer in_person and Non-transfer student would like to prepfer online method"
   ]
  },
  {
   "cell_type": "code",
   "execution_count": 16,
   "id": "2e3f494d-c0ba-40b6-adac-253e6f826a82",
   "metadata": {},
   "outputs": [
    {
     "data": {
      "image/png": "[encoded data removed]",
      "text/plain": [
       "<Figure size 432x288 with 1 Axes>"
      ]
     },
     "metadata": {},
     "output_type": "display_data"
    }
   ],
   "source": [
    "# Relationship between transfer/non transfer student and preference of school method.\n",
    "#caste two columns into string\n",
    "df[\"Are you a transfer student?\"] = df[\"Are you a transfer student?\"].astype(str)\n",
    "df[\"School Preference\"] = df[\"School Preference\"].astype(str)\n",
    "df.dtypes\n",
    "\n",
    "# Using pie chart and group by function to create visualization between two columns.\n",
    "Total = df.groupby(\"Are you a transfer student?\")[\"School Preference\"].value_counts().plot.pie(autopct='%1.2f%%')"
   ]
  },
  {
   "cell_type": "code",
   "execution_count": 17,
   "id": "96f0a6f9-b127-464d-9ee6-3d027b5e577f",
   "metadata": {},
   "outputs": [
    {
     "data": {
      "image/png": "[encoded data removed]",
      "text/plain": [
       "<Figure size 432x288 with 1 Axes>"
      ]
     },
     "metadata": {},
     "output_type": "display_data"
    }
   ],
   "source": [
    "#Preference of transfer student.\n",
    "#Create new data frame for transfer student only\n",
    "df2 = df[(df[\"Are you a transfer student?\"]=='Yes')]\n",
    "#Using pie chart and group by function to create visualization of transfer student's preference on their study method.\n",
    "Transfer = df2.groupby(\"Are you a transfer student?\")[\"School Preference\"].value_counts().plot.pie(autopct='%1.2f%%')"
   ]
  },
  {
   "cell_type": "code",
   "execution_count": 18,
   "id": "0ff04bb8-0f36-4d7c-81c8-d17348434f86",
   "metadata": {},
   "outputs": [
    {
     "data": {
      "image/png": "[encoded data removed]",
      "text/plain": [
       "<Figure size 432x288 with 1 Axes>"
      ]
     },
     "metadata": {},
     "output_type": "display_data"
    }
   ],
   "source": [
    "#Preference of Non transfer student.\n",
    "#Create new data frame for Non_transfer student only\n",
    "df3 = df[(df[\"Are you a transfer student?\"]=='No')]\n",
    "##Using pie chart and group by function to create visualization of Non_transfer student's preference on their study method.\n",
    "Nontransfer = df3.groupby(\"Are you a transfer student?\")[\"School Preference\"].value_counts().plot.pie(autopct='%1.2f%%')\n"
   ]
  },
  {
   "cell_type": "markdown",
   "id": "b9602c80-5413-4ab4-9832-90ae7460ce16",
   "metadata": {},
   "source": [
    "Test: Correlation analysis by pearson"
   ]
  },
  {
   "cell_type": "markdown",
   "id": "230bf8ca-f059-4ec2-bc7e-0c96ca989ed8",
   "metadata": {},
   "source": [
    "## Result: \n",
    "The pearson correlation hypothesis test result shows that there is no correlation between Overall school preference and whether students are transfer student or not. Most of students prefer to have online class rather than in-person class. Unlike our prediction, the transfer student have the same preference on online and in-person method."
   ]
  },
  {
   "cell_type": "markdown",
   "id": "4aa923f1-c5cd-4473-bab4-7974f6f0f7aa",
   "metadata": {},
   "source": [
    "## Test #3.3 (Pearson):"
   ]
  },
  {
   "cell_type": "code",
   "execution_count": 19,
   "id": "2d9fb514-0bf9-41d5-ba28-c9c95da0cad9",
   "metadata": {},
   "outputs": [
    {
     "name": "stdout",
     "output_type": "stream",
     "text": [
      "    Are you a transfer student?  Overall, I prefer in-person vs. online.\n",
      "0                             1                                      4.0\n",
      "1                             0                                      1.0\n",
      "2                             1                                      5.0\n",
      "3                             1                                      0.0\n",
      "4                             0                                      1.0\n",
      "..                          ...                                      ...\n",
      "72                            0                                      2.0\n",
      "73                            0                                      0.0\n",
      "74                            1                                      4.0\n",
      "75                            0                                      4.0\n",
      "76                            0                                      0.0\n",
      "\n",
      "[75 rows x 2 columns]\n"
     ]
    },
    {
     "data": {
      "text/html": [
       "<div>\n",
       "<style scoped>\n",
       "    .dataframe tbody tr th:only-of-type {\n",
       "        vertical-align: middle;\n",
       "    }\n",
       "\n",
       "    .dataframe tbody tr th {\n",
       "        vertical-align: top;\n",
       "    }\n",
       "\n",
       "    .dataframe thead th {\n",
       "        text-align: right;\n",
       "    }\n",
       "</style>\n",
       "<table border=\"1\" class=\"dataframe\">\n",
       "  <thead>\n",
       "    <tr style=\"text-align: right;\">\n",
       "      <th></th>\n",
       "      <th>Are you a transfer student?</th>\n",
       "      <th>Overall, I prefer in-person vs. online.</th>\n",
       "    </tr>\n",
       "  </thead>\n",
       "  <tbody>\n",
       "    <tr>\n",
       "      <th>Are you a transfer student?</th>\n",
       "      <td>1.000000</td>\n",
       "      <td>0.033153</td>\n",
       "    </tr>\n",
       "    <tr>\n",
       "      <th>Overall, I prefer in-person vs. online.</th>\n",
       "      <td>0.033153</td>\n",
       "      <td>1.000000</td>\n",
       "    </tr>\n",
       "  </tbody>\n",
       "</table>\n",
       "</div>"
      ],
      "text/plain": [
       "                                         Are you a transfer student?  \\\n",
       "Are you a transfer student?                                 1.000000   \n",
       "Overall, I prefer in-person vs. online.                     0.033153   \n",
       "\n",
       "                                         Overall, I prefer in-person vs. online.  \n",
       "Are you a transfer student?                                             0.033153  \n",
       "Overall, I prefer in-person vs. online.                                 1.000000  "
      ]
     },
     "execution_count": 19,
     "metadata": {},
     "output_type": "execute_result"
    }
   ],
   "source": [
    "#Testing Hypotheses\n",
    "df[\"Are you a transfer student?\"].replace(['Yes','No'],[0,1],inplace=True)\n",
    "\n",
    "# Create a dataframe for transfer and overall preference only\n",
    "data = df[[\"Are you a transfer student?\",\"Overall, I prefer in-person vs. online.\"]].copy()\n",
    "print(data)\n",
    "\n",
    "#Using pearson correlation test to find out the correlation.\n",
    "r = data.corr(method='pearson')\n",
    "r"
   ]
  },
  {
   "cell_type": "markdown",
   "id": "2e49c882-adf8-4823-814f-33a49c4b7f90",
   "metadata": {},
   "source": [
    "## 3.4 Comparsion between Productive, Social interaction, and Overall preference"
   ]
  },
  {
   "cell_type": "markdown",
   "id": "81fb25a1-0a6b-4897-98db-aab90de14468",
   "metadata": {},
   "source": [
    "## Hypothesis #3.4:\n",
    "If students prefer online classes, then they will also prefer online method of social interaction and will be more productive on online classes. If student prefer in-person classes, then they will also prefer in-person method of social interaction and will be more productive on in-person classes."
   ]
  },
  {
   "cell_type": "code",
   "execution_count": 20,
   "id": "9a4c9698-0a69-44df-bde9-d748fdd58470",
   "metadata": {},
   "outputs": [
    {
     "data": {
      "text/plain": [
       "(array([ 0.,  5., 10., 15., 20., 25., 30., 35., 40.]),\n",
       " [Text(0, 0, ''),\n",
       "  Text(0, 0, ''),\n",
       "  Text(0, 0, ''),\n",
       "  Text(0, 0, ''),\n",
       "  Text(0, 0, ''),\n",
       "  Text(0, 0, ''),\n",
       "  Text(0, 0, ''),\n",
       "  Text(0, 0, ''),\n",
       "  Text(0, 0, '')])"
      ]
     },
     "execution_count": 20,
     "metadata": {},
     "output_type": "execute_result"
    },
    {
     "data": {
      "image/png": "[encoded data removed]",
      "text/plain": [
       "<Figure size 1440x720 with 1 Axes>"
      ]
     },
     "metadata": {
      "needs_background": "light"
     },
     "output_type": "display_data"
    }
   ],
   "source": [
    "# Comparsion between Productive, Social interaction, and Overall preference\n",
    "#Replacing scales into string\n",
    "import matplotlib.pyplot as plt\n",
    "\n",
    "df[\"Productive\"] = df[\"I feel more productive when attending class in-person vs. online.\"].replace([-5,-4,0,4,5],['In-Person','In-Person','Neutral','Online','Online'])\n",
    "df[\"Overall\"] = df[\"Overall, I prefer in-person vs. online.\"].replace([1,2,0,4,5],['In-Person','In-Person','Neutral','Online','Online'])\n",
    "df[\"Social\"] = df[\"Social interactions are better in-person vs. online.\"].replace([-5,-4,0,4,5],['In-Person','In-Person','Neutral','Online','Online'])\n",
    "\n",
    "#Shorten the name of columns\n",
    "Overall= df[\"Overall\"]\n",
    "Productive = df[\"Productive\"]\n",
    "Social = df[\"Social\"]\n",
    "\n",
    "#Create crosstab for three columns\n",
    "OSP=pd.crosstab(Overall,[Productive,Social])\n",
    "\n",
    "#Using plot bar to create visualization of three colums relationship\n",
    "OSP.plot.bar(stacked=True,figsize=(20,10))\n",
    "plt.legend(bbox_to_anchor=(1.0, 1.0),prop={'size': 15})\n",
    "plt.xticks(fontsize=15)\n",
    "plt.yticks(fontsize=15)"
   ]
  },
  {
   "cell_type": "code",
   "execution_count": 21,
   "id": "ad06449f-abef-4567-ba69-c255cb90b6e4",
   "metadata": {},
   "outputs": [
    {
     "data": {
      "text/plain": [
       "(array([ 0.,  5., 10., 15., 20., 25., 30., 35.]),\n",
       " [Text(0, 0, ''),\n",
       "  Text(0, 0, ''),\n",
       "  Text(0, 0, ''),\n",
       "  Text(0, 0, ''),\n",
       "  Text(0, 0, ''),\n",
       "  Text(0, 0, ''),\n",
       "  Text(0, 0, ''),\n",
       "  Text(0, 0, '')])"
      ]
     },
     "execution_count": 21,
     "metadata": {},
     "output_type": "execute_result"
    },
    {
     "data": {
      "image/png": "[encoded data removed]",
      "text/plain": [
       "<Figure size 432x288 with 1 Axes>"
      ]
     },
     "metadata": {
      "needs_background": "light"
     },
     "output_type": "display_data"
    }
   ],
   "source": [
    "# Relationship between Overall preference and Productive\n",
    "\n",
    "#Create crosstab for Overall and Prductive columns\n",
    "OP=pd.crosstab(Overall,Productive)\n",
    "\n",
    "#Using plot bar to create visualization of two colums' relationship\n",
    "OP.plot.bar()\n",
    "plt.legend(bbox_to_anchor=(1.0, 1.0),prop={'size': 15})\n",
    "plt.xticks(fontsize=15)\n",
    "plt.yticks(fontsize=15)"
   ]
  },
  {
   "cell_type": "code",
   "execution_count": 22,
   "id": "c220994e-5187-49bb-99df-9f3437f93ac7",
   "metadata": {},
   "outputs": [
    {
     "data": {
      "text/plain": [
       "(array([ 0.,  5., 10., 15., 20., 25., 30., 35.]),\n",
       " [Text(0, 0, ''),\n",
       "  Text(0, 0, ''),\n",
       "  Text(0, 0, ''),\n",
       "  Text(0, 0, ''),\n",
       "  Text(0, 0, ''),\n",
       "  Text(0, 0, ''),\n",
       "  Text(0, 0, ''),\n",
       "  Text(0, 0, '')])"
      ]
     },
     "execution_count": 22,
     "metadata": {},
     "output_type": "execute_result"
    },
    {
     "data": {
      "image/png": "[encoded data removed]",
      "text/plain": [
       "<Figure size 432x288 with 1 Axes>"
      ]
     },
     "metadata": {
      "needs_background": "light"
     },
     "output_type": "display_data"
    }
   ],
   "source": [
    "#Relationship between Overall preference and Social interaction\n",
    "\n",
    "#Create cross tab for Overall and Social\n",
    "OS=pd.crosstab(Overall,Social)\n",
    "\n",
    "#Using plot bar to create visualization of two colums' relationship\n",
    "OS.plot.bar()\n",
    "plt.legend(bbox_to_anchor=(1.0, 1.0),prop={'size': 15})\n",
    "plt.xticks(fontsize=15)\n",
    "plt.yticks(fontsize=15)"
   ]
  },
  {
   "cell_type": "code",
   "execution_count": 23,
   "id": "1b6b06a6-5375-4c4c-aa75-6d17108ca141",
   "metadata": {},
   "outputs": [
    {
     "data": {
      "text/plain": [
       "(array([ 0., 10., 20., 30., 40., 50.]),\n",
       " [Text(0, 0, ''),\n",
       "  Text(0, 0, ''),\n",
       "  Text(0, 0, ''),\n",
       "  Text(0, 0, ''),\n",
       "  Text(0, 0, ''),\n",
       "  Text(0, 0, '')])"
      ]
     },
     "execution_count": 23,
     "metadata": {},
     "output_type": "execute_result"
    },
    {
     "data": {
      "image/png": "[encoded data removed]",
      "text/plain": [
       "<Figure size 432x288 with 1 Axes>"
      ]
     },
     "metadata": {
      "needs_background": "light"
     },
     "output_type": "display_data"
    }
   ],
   "source": [
    "#Relationship between Productive and Social interaction\n",
    "\n",
    "#Create cross tab for Productive and Social\n",
    "PS=pd.crosstab(Productive,Social)\n",
    "\n",
    "#Using plot bar to create visualization of two colums' relationship\n",
    "PS.plot.bar()\n",
    "plt.legend(bbox_to_anchor=(1.0, 1.0),prop={'size': 15})\n",
    "plt.xticks(fontsize=15)\n",
    "plt.yticks(fontsize=15)"
   ]
  },
  {
   "cell_type": "markdown",
   "id": "60824b02-1467-4504-b6dc-b40c1d08e36b",
   "metadata": {},
   "source": [
    "Test: Correlation analysis by pearson"
   ]
  },
  {
   "cell_type": "markdown",
   "id": "762f1907-3884-47b3-8212-2108ba92f507",
   "metadata": {},
   "source": [
    "## Result: \n",
    "According to the plot bar graphs we find out the students who prefer online class have a tendency to do better on social interaction with online method and to be more productive for online classes. However, students who prefer in-person classes do not have the same tendency for social interaction. Instead they also prefer online method for social interaction. As the result of the pearson test, we find out that there are a weak positive correlations between Overall School preference, Social interaction preference, and be more productive."
   ]
  },
  {
   "cell_type": "markdown",
   "id": "2c50a753-6300-47a1-8eef-1cb576b9283c",
   "metadata": {},
   "source": [
    "Like our prediction we are able to find out positive correlation between More Productive and social interaction questions. There is a weak positive correlations between more productive and Social interactions. It is because the test result is 0.37"
   ]
  },
  {
   "cell_type": "markdown",
   "id": "35fd5ff4-5597-4d57-8ee2-72091fa91a93",
   "metadata": {},
   "source": [
    "Lastly, there is also a weak positive correlation betwwen Overall and Social interactions because the test result came out 0.47."
   ]
  },
  {
   "cell_type": "markdown",
   "id": "724076e6-f60b-4ff2-9dd2-24be38835cfc",
   "metadata": {},
   "source": [
    "## Test #3.4 (Pearson):"
   ]
  },
  {
   "cell_type": "code",
   "execution_count": 24,
   "id": "3785f153-5650-4268-a6aa-356cff149d5e",
   "metadata": {},
   "outputs": [
    {
     "data": {
      "text/html": [
       "<div>\n",
       "<style scoped>\n",
       "    .dataframe tbody tr th:only-of-type {\n",
       "        vertical-align: middle;\n",
       "    }\n",
       "\n",
       "    .dataframe tbody tr th {\n",
       "        vertical-align: top;\n",
       "    }\n",
       "\n",
       "    .dataframe thead th {\n",
       "        text-align: right;\n",
       "    }\n",
       "</style>\n",
       "<table border=\"1\" class=\"dataframe\">\n",
       "  <thead>\n",
       "    <tr style=\"text-align: right;\">\n",
       "      <th></th>\n",
       "      <th>I feel more productive when attending class in-person vs. online.</th>\n",
       "      <th>Overall, I prefer in-person vs. online.</th>\n",
       "      <th>Social interactions are better in-person vs. online.</th>\n",
       "    </tr>\n",
       "  </thead>\n",
       "  <tbody>\n",
       "    <tr>\n",
       "      <th>I feel more productive when attending class in-person vs. online.</th>\n",
       "      <td>1.000000</td>\n",
       "      <td>0.424188</td>\n",
       "      <td>0.373891</td>\n",
       "    </tr>\n",
       "    <tr>\n",
       "      <th>Overall, I prefer in-person vs. online.</th>\n",
       "      <td>0.424188</td>\n",
       "      <td>1.000000</td>\n",
       "      <td>0.444088</td>\n",
       "    </tr>\n",
       "    <tr>\n",
       "      <th>Social interactions are better in-person vs. online.</th>\n",
       "      <td>0.373891</td>\n",
       "      <td>0.444088</td>\n",
       "      <td>1.000000</td>\n",
       "    </tr>\n",
       "  </tbody>\n",
       "</table>\n",
       "</div>"
      ],
      "text/plain": [
       "                                                    I feel more productive when attending class in-person vs. online.  \\\n",
       "I feel more productive when attending class in-...                                           1.000000                   \n",
       "Overall, I prefer in-person vs. online.                                                      0.424188                   \n",
       "Social interactions are better in-person vs. on...                                           0.373891                   \n",
       "\n",
       "                                                    Overall, I prefer in-person vs. online.  \\\n",
       "I feel more productive when attending class in-...                                 0.424188   \n",
       "Overall, I prefer in-person vs. online.                                            1.000000   \n",
       "Social interactions are better in-person vs. on...                                 0.444088   \n",
       "\n",
       "                                                    Social interactions are better in-person vs. online.  \n",
       "I feel more productive when attending class in-...                                           0.373891     \n",
       "Overall, I prefer in-person vs. online.                                                      0.444088     \n",
       "Social interactions are better in-person vs. on...                                           1.000000     "
      ]
     },
     "execution_count": 24,
     "metadata": {},
     "output_type": "execute_result"
    }
   ],
   "source": [
    "# Create new dataframe that contains productive, overall preference, and social interaction only\n",
    "data1 = df[[\"I feel more productive when attending class in-person vs. online.\",\"Overall, I prefer in-person vs. online.\",\"Social interactions are better in-person vs. online.\"]].copy()\n",
    "data1\n",
    "\n",
    "# Using pearson method to test Correlation\n",
    "r1 = data1.corr(method='pearson')\n",
    "r1"
   ]
  },
  {
   "cell_type": "markdown",
   "id": "d310f7ba-78d7-45f4-8325-8ea0e5629797",
   "metadata": {},
   "source": [
    "## 3.5 Relationship Between Gender and Overall School Preferrence"
   ]
  },
  {
   "cell_type": "markdown",
   "id": "af26dfc5-c744-4f97-9aea-bdde30bd1682",
   "metadata": {},
   "source": [
    "## Hypothesis #3.5: \n",
    "We hypothesize that more students regardless of their gender will prefer online learning as opposed to in-person learning because they save more time, money, and they perform better in school."
   ]
  },
  {
   "cell_type": "code",
   "execution_count": 25,
   "id": "15b5ffe6-015b-4287-afe5-a51999f4ae05",
   "metadata": {},
   "outputs": [
    {
     "data": {
      "text/html": [
       "<div>\n",
       "<style scoped>\n",
       "    .dataframe tbody tr th:only-of-type {\n",
       "        vertical-align: middle;\n",
       "    }\n",
       "\n",
       "    .dataframe tbody tr th {\n",
       "        vertical-align: top;\n",
       "    }\n",
       "\n",
       "    .dataframe thead th {\n",
       "        text-align: right;\n",
       "    }\n",
       "</style>\n",
       "<table border=\"1\" class=\"dataframe\">\n",
       "  <thead>\n",
       "    <tr style=\"text-align: right;\">\n",
       "      <th>Overall, I prefer in-person vs. online.</th>\n",
       "      <th>0.0</th>\n",
       "      <th>1.0</th>\n",
       "      <th>2.0</th>\n",
       "      <th>4.0</th>\n",
       "      <th>5.0</th>\n",
       "    </tr>\n",
       "    <tr>\n",
       "      <th>To which gender identity do you most identify?</th>\n",
       "      <th></th>\n",
       "      <th></th>\n",
       "      <th></th>\n",
       "      <th></th>\n",
       "      <th></th>\n",
       "    </tr>\n",
       "  </thead>\n",
       "  <tbody>\n",
       "    <tr>\n",
       "      <th>Man</th>\n",
       "      <td>10</td>\n",
       "      <td>10</td>\n",
       "      <td>7</td>\n",
       "      <td>12</td>\n",
       "      <td>11</td>\n",
       "    </tr>\n",
       "    <tr>\n",
       "      <th>Woman</th>\n",
       "      <td>10</td>\n",
       "      <td>2</td>\n",
       "      <td>1</td>\n",
       "      <td>6</td>\n",
       "      <td>6</td>\n",
       "    </tr>\n",
       "  </tbody>\n",
       "</table>\n",
       "</div>"
      ],
      "text/plain": [
       "Overall, I prefer in-person vs. online.         0.0  1.0  2.0  4.0  5.0\n",
       "To which gender identity do you most identify?                         \n",
       "Man                                              10   10    7   12   11\n",
       "Woman                                            10    2    1    6    6"
      ]
     },
     "execution_count": 25,
     "metadata": {},
     "output_type": "execute_result"
    }
   ],
   "source": [
    "Gender_Corr = pd.crosstab(df[\"To which gender identity do you most identify?\"], df[\"Overall, I prefer in-person vs. online.\"])\n",
    "Gender_Corr"
   ]
  },
  {
   "cell_type": "code",
   "execution_count": 26,
   "id": "3f0d4c35-8470-402d-be8a-09fc436ab94b",
   "metadata": {},
   "outputs": [
    {
     "data": {
      "text/plain": [
       "<AxesSubplot:xlabel='To which gender identity do you most identify?'>"
      ]
     },
     "execution_count": 26,
     "metadata": {},
     "output_type": "execute_result"
    },
    {
     "data": {
      "image/png": "[encoded data removed]",
      "text/plain": [
       "<Figure size 432x288 with 1 Axes>"
      ]
     },
     "metadata": {
      "needs_background": "light"
     },
     "output_type": "display_data"
    }
   ],
   "source": [
    "Gender_Corr.plot.bar()"
   ]
  },
  {
   "cell_type": "code",
   "execution_count": 27,
   "id": "f29014c0-5721-46bb-9af8-7fb34cb41b63",
   "metadata": {},
   "outputs": [
    {
     "data": {
      "text/plain": [
       "<AxesSubplot:xlabel='To which gender identity do you most identify?,Overall, I prefer in-person vs. online.'>"
      ]
     },
     "execution_count": 27,
     "metadata": {},
     "output_type": "execute_result"
    },
    {
     "data": {
      "image/png": "[encoded data removed]",
      "text/plain": [
       "<Figure size 432x288 with 1 Axes>"
      ]
     },
     "metadata": {
      "needs_background": "light"
     },
     "output_type": "display_data"
    }
   ],
   "source": [
    "data_df2 = df[(df[\"To which gender identity do you most identify?\"]=='Man')]\n",
    "ManGender = data_df2.groupby(\"To which gender identity do you most identify?\")[\"Overall, I prefer in-person vs. online.\"].value_counts().plot.bar()\n",
    "ManGender"
   ]
  },
  {
   "cell_type": "code",
   "execution_count": 28,
   "id": "5b0c1cb8-a3fe-4cab-a82f-52349e0bbc35",
   "metadata": {},
   "outputs": [
    {
     "data": {
      "text/plain": [
       "<AxesSubplot:xlabel='To which gender identity do you most identify?,Overall, I prefer in-person vs. online.'>"
      ]
     },
     "execution_count": 28,
     "metadata": {},
     "output_type": "execute_result"
    },
    {
     "data": {
      "image/png": "[encoded data removed]",
      "text/plain": [
       "<Figure size 432x288 with 1 Axes>"
      ]
     },
     "metadata": {
      "needs_background": "light"
     },
     "output_type": "display_data"
    }
   ],
   "source": [
    "data_df3 = df[(df[\"To which gender identity do you most identify?\"]=='Woman')]\n",
    "WomanGender = data_df3.groupby(\"To which gender identity do you most identify?\")[\"Overall, I prefer in-person vs. online.\"].value_counts().plot.bar()\n",
    "WomanGender"
   ]
  },
  {
   "cell_type": "markdown",
   "id": "b5cf1a17-f666-42ac-a9f2-3b0d7bc35aad",
   "metadata": {},
   "source": [
    "Here we can see the the data and the histogram visualization/graph, and it shows that out of all the men, the men prefer mostly to be online and out of all the women, the women prefer to be more neutral but also lean towards being online as well. This shows that both genders still do lean more towards learning online, but more women are neutral. So we beleive that gender does not affect the person's decision if they want to be online or in-person so we would conclude that there is no correlation."
   ]
  },
  {
   "cell_type": "code",
   "execution_count": 29,
   "id": "249ec823-b2e7-44e1-8dd8-19c790b5e6e4",
   "metadata": {},
   "outputs": [
    {
     "data": {
      "text/html": [
       "<div>\n",
       "<style scoped>\n",
       "    .dataframe tbody tr th:only-of-type {\n",
       "        vertical-align: middle;\n",
       "    }\n",
       "\n",
       "    .dataframe tbody tr th {\n",
       "        vertical-align: top;\n",
       "    }\n",
       "\n",
       "    .dataframe thead th {\n",
       "        text-align: right;\n",
       "    }\n",
       "</style>\n",
       "<table border=\"1\" class=\"dataframe\">\n",
       "  <thead>\n",
       "    <tr style=\"text-align: right;\">\n",
       "      <th>Overall, I prefer in-person vs. online.</th>\n",
       "      <th>0.0</th>\n",
       "      <th>1.0</th>\n",
       "      <th>2.0</th>\n",
       "      <th>4.0</th>\n",
       "      <th>5.0</th>\n",
       "      <th>All</th>\n",
       "    </tr>\n",
       "    <tr>\n",
       "      <th>To which gender identity do you most identify?</th>\n",
       "      <th></th>\n",
       "      <th></th>\n",
       "      <th></th>\n",
       "      <th></th>\n",
       "      <th></th>\n",
       "      <th></th>\n",
       "    </tr>\n",
       "  </thead>\n",
       "  <tbody>\n",
       "    <tr>\n",
       "      <th>Man</th>\n",
       "      <td>0.133333</td>\n",
       "      <td>0.133333</td>\n",
       "      <td>0.093333</td>\n",
       "      <td>0.16</td>\n",
       "      <td>0.146667</td>\n",
       "      <td>0.666667</td>\n",
       "    </tr>\n",
       "    <tr>\n",
       "      <th>Woman</th>\n",
       "      <td>0.133333</td>\n",
       "      <td>0.026667</td>\n",
       "      <td>0.013333</td>\n",
       "      <td>0.08</td>\n",
       "      <td>0.080000</td>\n",
       "      <td>0.333333</td>\n",
       "    </tr>\n",
       "    <tr>\n",
       "      <th>All</th>\n",
       "      <td>0.266667</td>\n",
       "      <td>0.160000</td>\n",
       "      <td>0.106667</td>\n",
       "      <td>0.24</td>\n",
       "      <td>0.226667</td>\n",
       "      <td>1.000000</td>\n",
       "    </tr>\n",
       "  </tbody>\n",
       "</table>\n",
       "</div>"
      ],
      "text/plain": [
       "Overall, I prefer in-person vs. online.              0.0       1.0       2.0  \\\n",
       "To which gender identity do you most identify?                                 \n",
       "Man                                             0.133333  0.133333  0.093333   \n",
       "Woman                                           0.133333  0.026667  0.013333   \n",
       "All                                             0.266667  0.160000  0.106667   \n",
       "\n",
       "Overall, I prefer in-person vs. online.          4.0       5.0       All  \n",
       "To which gender identity do you most identify?                            \n",
       "Man                                             0.16  0.146667  0.666667  \n",
       "Woman                                           0.08  0.080000  0.333333  \n",
       "All                                             0.24  0.226667  1.000000  "
      ]
     },
     "execution_count": 29,
     "metadata": {},
     "output_type": "execute_result"
    }
   ],
   "source": [
    "gendercross = pd.crosstab(df[\"To which gender identity do you most identify?\"], df[\"Overall, I prefer in-person vs. online.\"],\n",
    "            normalize=True, margins=True)\n",
    "gendercross"
   ]
  },
  {
   "cell_type": "markdown",
   "id": "adaa33aa-be2b-43dc-860f-2755df02de31",
   "metadata": {},
   "source": [
    "## Result:\n",
    "Looking at the the proportions of the graphs, 46% of all men prefer or lean towards online whereas 48% of all women prefer or lean towards online. This data is obtained by combining 4.0 and 5.0. 44% of all men prefer or lean towards in-person whereas 12% of all women prefer or lean towards online. This data is obtained by combining 1.0 and 2.0. 20% of men felt neutral and 40% of women felt neutral. This data is obtained by looking at 0.0. By looking at all of this, both men and women prefer online over in-person. However, the majority of women chose to be neutral (0.0) which was 40% of women and the majority of men chose to be online (5.0) which was 22% of men. Where the men chose in-person the women chose neutral."
   ]
  },
  {
   "cell_type": "markdown",
   "id": "41b5d760-e7ed-4bc5-9e7b-46330c0cbc10",
   "metadata": {},
   "source": [
    "## Test #3.5 (Pearson and Chi-Squared):"
   ]
  },
  {
   "cell_type": "code",
   "execution_count": 30,
   "id": "af43ff7a-19a0-4552-87e1-8acfc1ec164c",
   "metadata": {},
   "outputs": [
    {
     "name": "stdout",
     "output_type": "stream",
     "text": [
      "Correlation between gender and preferring online or inperson is:  -0.051796977028281184\n"
     ]
    }
   ],
   "source": [
    "df[\"To which gender identity do you most identify?\"].replace(['Man','Woman'],[0,1],inplace=True)\n",
    "\n",
    "# Create a dataframe for gender and overall preference only\n",
    "GenderData = df[[\"To which gender identity do you most identify?\",\"Overall, I prefer in-person vs. online.\"]].copy()\n",
    "GenderData\n",
    "\n",
    "#Using pearson correlation test to find out the correlation.\n",
    "r = GenderData.corr(method='pearson')\n",
    "r\n",
    "\n",
    "print(\"Correlation between gender and preferring online or inperson is: \", GenderData[\"Overall, I prefer in-person vs. online.\"].corr(GenderData[\"To which gender identity do you most identify?\"],method = 'pearson' ) )"
   ]
  },
  {
   "cell_type": "markdown",
   "id": "d00781b7-0de4-4dd1-bb50-0c0baf3c3f7a",
   "metadata": {},
   "source": [
    "Based off the Pearson correlation calculation there is no correlation between gender and the person's preference to attend school online or in-person since the value of the correlation -0.051796977028281184 is really close to 0. "
   ]
  },
  {
   "cell_type": "code",
   "execution_count": 31,
   "id": "93d7bda3-8f02-4b8e-bfb9-92e5e2d5069f",
   "metadata": {},
   "outputs": [
    {
     "name": "stdout",
     "output_type": "stream",
     "text": [
      "chi square value:  5.591911764705882\n",
      "p value:  0.23176771813219454\n",
      "degree of freedom:  4\n",
      "expected frequencies when story type and gender is independent:  [[13.33333333  8.          5.33333333 12.         11.33333333]\n",
      " [ 6.66666667  4.          2.66666667  6.          5.66666667]]\n",
      "for 1 degree of freedom, the chi-square valued needed to reject the hypothesis at the 0.001 significance level is:\n"
     ]
    },
    {
     "data": {
      "text/plain": [
       "18.46682695290317"
      ]
     },
     "execution_count": 31,
     "metadata": {},
     "output_type": "execute_result"
    }
   ],
   "source": [
    "from scipy.stats import chi2_contingency\n",
    "chi, p, dfree, expected = chi2_contingency(Gender_Corr)\n",
    "print(\"chi square value: \" ,chi)\n",
    "print(\"p value: \", p)\n",
    "print(\"degree of freedom: \", dfree)\n",
    "print(\"expected frequencies when story type and gender is independent: \", expected)\n",
    "from scipy.stats import chi2\n",
    "print(\"for 1 degree of freedom, the chi-square valued needed to reject the hypothesis at the 0.001 significance level is:\")\n",
    "chi2.ppf(0.999, 4)"
   ]
  },
  {
   "cell_type": "markdown",
   "id": "8536da13-324b-42c8-a5e6-a8c2c44e5923",
   "metadata": {},
   "source": [
    "Null Hypothesis: The person's gender and their preference of whether to learn in-person or online are not correlated.\n",
    "\n",
    "Alternate Hypothesis: The person's gender and their preference of whether to learn in-person or online are correlated.\n",
    "\n",
    "Since at 0.001 significance level, the p-value of 0.23176771813219454 is greater than the significance level we fail to reject the null hypothesis. Therefore, there is sufficient evidence that the person's gender and their preference of whether to learn in-person or online are not correlated."
   ]
  },
  {
   "cell_type": "markdown",
   "id": "2c7a16df-8f80-49c8-ab79-7b2077d24867",
   "metadata": {},
   "source": [
    "## 3.6 Relation Between Visual/Hands-On Learning and Overal School Preferrence"
   ]
  },
  {
   "cell_type": "markdown",
   "id": "0c1fa687-ca68-4059-b4a1-b10a76abcc86",
   "metadata": {},
   "source": [
    "## Hypothisis #3.6:\n",
    "We hypothesize that students who have a higher prefrence for hands on learning will have a negative correlation to online vs inperson prefrence, meaning students who are strong hands on learners will perefer to have in-person classes. We also think that visual learners will prefer online classes. We also assume that prefering to have in-person classes is dependent on having a strong visual and hands on learning prefrence."
   ]
  },
  {
   "cell_type": "code",
   "execution_count": 32,
   "id": "d817b189-fd65-4cfc-b04c-eaf3477725c7",
   "metadata": {},
   "outputs": [
    {
     "data": {
      "text/html": [
       "<div>\n",
       "<style scoped>\n",
       "    .dataframe tbody tr th:only-of-type {\n",
       "        vertical-align: middle;\n",
       "    }\n",
       "\n",
       "    .dataframe tbody tr th {\n",
       "        vertical-align: top;\n",
       "    }\n",
       "\n",
       "    .dataframe thead th {\n",
       "        text-align: right;\n",
       "    }\n",
       "</style>\n",
       "<table border=\"1\" class=\"dataframe\">\n",
       "  <thead>\n",
       "    <tr style=\"text-align: right;\">\n",
       "      <th>Visual materials (graphs, tables, pictures, etc.) help with my learning.</th>\n",
       "      <th>3.0</th>\n",
       "      <th>4.0</th>\n",
       "      <th>5.0</th>\n",
       "    </tr>\n",
       "    <tr>\n",
       "      <th>Overall, I prefer in-person vs. online.</th>\n",
       "      <th></th>\n",
       "      <th></th>\n",
       "      <th></th>\n",
       "    </tr>\n",
       "  </thead>\n",
       "  <tbody>\n",
       "    <tr>\n",
       "      <th>0.0</th>\n",
       "      <td>0</td>\n",
       "      <td>8</td>\n",
       "      <td>12</td>\n",
       "    </tr>\n",
       "    <tr>\n",
       "      <th>1.0</th>\n",
       "      <td>0</td>\n",
       "      <td>3</td>\n",
       "      <td>9</td>\n",
       "    </tr>\n",
       "    <tr>\n",
       "      <th>2.0</th>\n",
       "      <td>0</td>\n",
       "      <td>2</td>\n",
       "      <td>6</td>\n",
       "    </tr>\n",
       "    <tr>\n",
       "      <th>4.0</th>\n",
       "      <td>0</td>\n",
       "      <td>5</td>\n",
       "      <td>13</td>\n",
       "    </tr>\n",
       "    <tr>\n",
       "      <th>5.0</th>\n",
       "      <td>2</td>\n",
       "      <td>6</td>\n",
       "      <td>9</td>\n",
       "    </tr>\n",
       "  </tbody>\n",
       "</table>\n",
       "</div>"
      ],
      "text/plain": [
       "Visual materials (graphs, tables, pictures, etc.) help with my learning.  3.0  \\\n",
       "Overall, I prefer in-person vs. online.                                         \n",
       "0.0                                                                         0   \n",
       "1.0                                                                         0   \n",
       "2.0                                                                         0   \n",
       "4.0                                                                         0   \n",
       "5.0                                                                         2   \n",
       "\n",
       "Visual materials (graphs, tables, pictures, etc.) help with my learning.  4.0  \\\n",
       "Overall, I prefer in-person vs. online.                                         \n",
       "0.0                                                                         8   \n",
       "1.0                                                                         3   \n",
       "2.0                                                                         2   \n",
       "4.0                                                                         5   \n",
       "5.0                                                                         6   \n",
       "\n",
       "Visual materials (graphs, tables, pictures, etc.) help with my learning.  5.0  \n",
       "Overall, I prefer in-person vs. online.                                        \n",
       "0.0                                                                        12  \n",
       "1.0                                                                         9  \n",
       "2.0                                                                         6  \n",
       "4.0                                                                        13  \n",
       "5.0                                                                         9  "
      ]
     },
     "execution_count": 32,
     "metadata": {},
     "output_type": "execute_result"
    }
   ],
   "source": [
    "VisualLearningCrosstab = pd.crosstab(df['Overall, I prefer in-person vs. online.'], df['Visual materials (graphs, tables, pictures, etc.) help with my learning.'])\n",
    "VisualLearningCrosstab"
   ]
  },
  {
   "cell_type": "code",
   "execution_count": 33,
   "id": "9c1a69ad-a16d-466a-9a09-9c09984b2b74",
   "metadata": {},
   "outputs": [
    {
     "data": {
      "text/html": [
       "<div>\n",
       "<style scoped>\n",
       "    .dataframe tbody tr th:only-of-type {\n",
       "        vertical-align: middle;\n",
       "    }\n",
       "\n",
       "    .dataframe tbody tr th {\n",
       "        vertical-align: top;\n",
       "    }\n",
       "\n",
       "    .dataframe thead th {\n",
       "        text-align: right;\n",
       "    }\n",
       "</style>\n",
       "<table border=\"1\" class=\"dataframe\">\n",
       "  <thead>\n",
       "    <tr style=\"text-align: right;\">\n",
       "      <th>Hands-on activities (worksheets, in-person labs, class assignments) help with my learning.</th>\n",
       "      <th>1.0</th>\n",
       "      <th>2.0</th>\n",
       "      <th>3.0</th>\n",
       "      <th>4.0</th>\n",
       "      <th>5.0</th>\n",
       "    </tr>\n",
       "    <tr>\n",
       "      <th>Overall, I prefer in-person vs. online.</th>\n",
       "      <th></th>\n",
       "      <th></th>\n",
       "      <th></th>\n",
       "      <th></th>\n",
       "      <th></th>\n",
       "    </tr>\n",
       "  </thead>\n",
       "  <tbody>\n",
       "    <tr>\n",
       "      <th>0.0</th>\n",
       "      <td>0</td>\n",
       "      <td>0</td>\n",
       "      <td>1</td>\n",
       "      <td>5</td>\n",
       "      <td>14</td>\n",
       "    </tr>\n",
       "    <tr>\n",
       "      <th>1.0</th>\n",
       "      <td>0</td>\n",
       "      <td>1</td>\n",
       "      <td>0</td>\n",
       "      <td>2</td>\n",
       "      <td>9</td>\n",
       "    </tr>\n",
       "    <tr>\n",
       "      <th>2.0</th>\n",
       "      <td>1</td>\n",
       "      <td>0</td>\n",
       "      <td>1</td>\n",
       "      <td>2</td>\n",
       "      <td>4</td>\n",
       "    </tr>\n",
       "    <tr>\n",
       "      <th>4.0</th>\n",
       "      <td>0</td>\n",
       "      <td>0</td>\n",
       "      <td>0</td>\n",
       "      <td>1</td>\n",
       "      <td>17</td>\n",
       "    </tr>\n",
       "    <tr>\n",
       "      <th>5.0</th>\n",
       "      <td>0</td>\n",
       "      <td>0</td>\n",
       "      <td>1</td>\n",
       "      <td>5</td>\n",
       "      <td>11</td>\n",
       "    </tr>\n",
       "  </tbody>\n",
       "</table>\n",
       "</div>"
      ],
      "text/plain": [
       "Hands-on activities (worksheets, in-person labs, class assignments) help with my learning.  1.0  \\\n",
       "Overall, I prefer in-person vs. online.                                                           \n",
       "0.0                                                                                           0   \n",
       "1.0                                                                                           0   \n",
       "2.0                                                                                           1   \n",
       "4.0                                                                                           0   \n",
       "5.0                                                                                           0   \n",
       "\n",
       "Hands-on activities (worksheets, in-person labs, class assignments) help with my learning.  2.0  \\\n",
       "Overall, I prefer in-person vs. online.                                                           \n",
       "0.0                                                                                           0   \n",
       "1.0                                                                                           1   \n",
       "2.0                                                                                           0   \n",
       "4.0                                                                                           0   \n",
       "5.0                                                                                           0   \n",
       "\n",
       "Hands-on activities (worksheets, in-person labs, class assignments) help with my learning.  3.0  \\\n",
       "Overall, I prefer in-person vs. online.                                                           \n",
       "0.0                                                                                           1   \n",
       "1.0                                                                                           0   \n",
       "2.0                                                                                           1   \n",
       "4.0                                                                                           0   \n",
       "5.0                                                                                           1   \n",
       "\n",
       "Hands-on activities (worksheets, in-person labs, class assignments) help with my learning.  4.0  \\\n",
       "Overall, I prefer in-person vs. online.                                                           \n",
       "0.0                                                                                           5   \n",
       "1.0                                                                                           2   \n",
       "2.0                                                                                           2   \n",
       "4.0                                                                                           1   \n",
       "5.0                                                                                           5   \n",
       "\n",
       "Hands-on activities (worksheets, in-person labs, class assignments) help with my learning.  5.0  \n",
       "Overall, I prefer in-person vs. online.                                                          \n",
       "0.0                                                                                          14  \n",
       "1.0                                                                                           9  \n",
       "2.0                                                                                           4  \n",
       "4.0                                                                                          17  \n",
       "5.0                                                                                          11  "
      ]
     },
     "execution_count": 33,
     "metadata": {},
     "output_type": "execute_result"
    }
   ],
   "source": [
    "HandsOnCrosstab = pd.crosstab(df['Overall, I prefer in-person vs. online.'], df['Hands-on activities (worksheets, in-person labs, class assignments) help with my learning.'])\n",
    "HandsOnCrosstab"
   ]
  },
  {
   "cell_type": "markdown",
   "id": "8e4b937e-83e5-4775-955c-32e9bd12fe85",
   "metadata": {},
   "source": [
    "## For the Scatter plot:\n",
    "The darker the color the less points there are in one location. The lighter the color the more data points there are in one location"
   ]
  },
  {
   "cell_type": "code",
   "execution_count": 34,
   "id": "a09f74ee-0833-439d-a301-09602dab2026",
   "metadata": {},
   "outputs": [
    {
     "data": {
      "image/png": "[encoded data removed]",
      "text/plain": [
       "<Figure size 432x288 with 1 Axes>"
      ]
     },
     "metadata": {
      "needs_background": "light"
     },
     "output_type": "display_data"
    }
   ],
   "source": [
    "import matplotlib.pyplot as plt\n",
    "from scipy.stats import gaussian_kde\n",
    "xy = np.vstack([df[\"Overall, I prefer in-person vs. online.\"],df[\"Visual materials (graphs, tables, pictures, etc.) help with my learning.\"]])\n",
    "z = gaussian_kde(xy)(xy)\n",
    "plt.scatter(x=df[\"Overall, I prefer in-person vs. online.\"],y=df[\"Visual materials (graphs, tables, pictures, etc.) help with my learning.\"],c=z)\n",
    "plt.ylabel(\"Visual materials (graphs, tables, pictures, etc.) help with my learning.\")\n",
    "plt.xlabel(\"Overall, I prefer in-person vs. online.\")\n",
    "plt.show()"
   ]
  },
  {
   "cell_type": "code",
   "execution_count": 35,
   "id": "8da4d7bc-3589-4f95-b056-ca0373262ffc",
   "metadata": {},
   "outputs": [
    {
     "data": {
      "image/png": "[encoded data removed]",
      "text/plain": [
       "<Figure size 432x288 with 1 Axes>"
      ]
     },
     "metadata": {
      "needs_background": "light"
     },
     "output_type": "display_data"
    }
   ],
   "source": [
    "xy = np.vstack([df[\"Overall, I prefer in-person vs. online.\"],df[\"Visual materials (graphs, tables, pictures, etc.) help with my learning.\"]])\n",
    "z = gaussian_kde(xy)(xy)\n",
    "plt.scatter(df[\"Overall, I prefer in-person vs. online.\"],df[\"Hands-on activities (worksheets, in-person labs, class assignments) help with my learning.\"], c=z)\n",
    "plt.ylabel(\"Hands-on activities (worksheets, in-person labs, class assignments) help with my learning.\")\n",
    "plt.xlabel(\"Overall, I prefer in-person vs. online.\")\n",
    "plt.show()"
   ]
  },
  {
   "cell_type": "markdown",
   "id": "47f18a37-4f6e-46a9-b18e-099a52ffdeb0",
   "metadata": {},
   "source": [
    "## Test #3.6 (Pearson and Chi-Squared):"
   ]
  },
  {
   "cell_type": "code",
   "execution_count": 36,
   "id": "81a7987f-1ab7-4c6c-bd83-beb7504712ab",
   "metadata": {},
   "outputs": [
    {
     "name": "stdout",
     "output_type": "stream",
     "text": [
      "Correlation between Visual and Prefering online or inperson is:  0.08112167606592037\n",
      "Correlation between Hands on Learning and Prefering online or inperson is:  -0.09856506539828293\n"
     ]
    }
   ],
   "source": [
    "print(\"Correlation between Visual and Prefering online or inperson is: \",df[\"Overall, I prefer in-person vs. online.\"].corr(df[\"Hands-on activities (worksheets, in-person labs, class assignments) help with my learning.\"],method = 'pearson' ) )\n",
    "print(\"Correlation between Hands on Learning and Prefering online or inperson is: \",df[\"Overall, I prefer in-person vs. online.\"].corr(df[\"Visual materials (graphs, tables, pictures, etc.) help with my learning.\"],method = 'pearson' ) )"
   ]
  },
  {
   "cell_type": "code",
   "execution_count": 37,
   "id": "da7a1f40-1343-441c-afef-f59513c67dea",
   "metadata": {},
   "outputs": [
    {
     "name": "stdout",
     "output_type": "stream",
     "text": [
      "chi square value:  8.591165632919832\n",
      "p value:  0.3779486640782953\n",
      "degree of freedom:  8\n",
      "expected frequencies when visual learning and school preferrence is independent:  [[ 0.53333333  6.4        13.06666667]\n",
      " [ 0.32        3.84        7.84      ]\n",
      " [ 0.21333333  2.56        5.22666667]\n",
      " [ 0.48        5.76       11.76      ]\n",
      " [ 0.45333333  5.44       11.10666667]]\n",
      "for 8 degree of freedom, the chi-square valued needed to reject the hypothesis at the 0.001 significance level:\n"
     ]
    },
    {
     "data": {
      "text/plain": [
       "26.12448155837614"
      ]
     },
     "execution_count": 37,
     "metadata": {},
     "output_type": "execute_result"
    }
   ],
   "source": [
    "from scipy.stats import chi2_contingency\n",
    "data = VisualLearningCrosstab#unChangedDf[\"Overall, I prefer in-person vs. online.\",\"Hands-on activities (worksheets, in-person labs, class assignments) help with my learning.\",\"Visual materials (graphs, tables, pictures, etc.) help with my learning.\"]\n",
    "chi, p, dfree, expected = chi2_contingency(data)\n",
    "print(\"chi square value: \" ,chi)\n",
    "print(\"p value: \", p)\n",
    "print(\"degree of freedom: \", dfree)\n",
    "print(\"expected frequencies when visual learning and school preferrence is independent: \", expected)\n",
    "from scipy.stats import chi2\n",
    "print(\"for 8 degree of freedom, the chi-square valued needed to reject the hypothesis at the 0.001 significance level:\")\n",
    "chi2.ppf(0.999, 8)"
   ]
  },
  {
   "cell_type": "code",
   "execution_count": 38,
   "id": "2c966ab0-8a22-40c9-8f48-0a4f9794307a",
   "metadata": {},
   "outputs": [
    {
     "name": "stdout",
     "output_type": "stream",
     "text": [
      "chi square value:  21.413250148544265\n",
      "p value:  0.16316707645782957\n",
      "degree of freedom:  16\n",
      "expected frequencies when hands on learning and school preferrence is independent:  [[ 0.26666667  0.26666667  0.8         4.         14.66666667]\n",
      " [ 0.16        0.16        0.48        2.4         8.8       ]\n",
      " [ 0.10666667  0.10666667  0.32        1.6         5.86666667]\n",
      " [ 0.24        0.24        0.72        3.6        13.2       ]\n",
      " [ 0.22666667  0.22666667  0.68        3.4        12.46666667]]\n",
      "for 16 degree of freedom, the chi-square valued needed to reject the hypothesis at the 0.001 significance level:\n"
     ]
    },
    {
     "data": {
      "text/plain": [
       "39.252354790768464"
      ]
     },
     "execution_count": 38,
     "metadata": {},
     "output_type": "execute_result"
    }
   ],
   "source": [
    "data = HandsOnCrosstab#unChangedDf[\"Overall, I prefer in-person vs. online.\",\"Hands-on activities (worksheets, in-person labs, class assignments) help with my learning.\",\"Visual materials (graphs, tables, pictures, etc.) help with my learning.\"]\n",
    "chi, p, dfree, expected = chi2_contingency(data)\n",
    "print(\"chi square value: \" ,chi)\n",
    "print(\"p value: \", p)\n",
    "print(\"degree of freedom: \", dfree)\n",
    "print(\"expected frequencies when hands on learning and school preferrence is independent: \", expected)\n",
    "from scipy.stats import chi2\n",
    "print(\"for 16 degree of freedom, the chi-square valued needed to reject the hypothesis at the 0.001 significance level:\")\n",
    "chi2.ppf(0.999, 16)"
   ]
  },
  {
   "cell_type": "markdown",
   "id": "9e19dd85-dc1e-42c6-b3ed-a7eb13914083",
   "metadata": {},
   "source": [
    "# Results\n",
    "Our initial prediction for the relationship between learning styles and if people prefer online or in-person was that we assumed People who have strong Hands on learning will prefer in-person class, so a negative relation and people who have strong visual learning will prefer online.<br>\n",
    "\n",
    "However after preforming some analysis on the data using a crosstabulation and scatter plot, we saw that our prediction was wrong. Almost everyone was a visual learner regardless of in-person or online preference, so there is no correlation there. For hands on learning we again see that we were not correct, the high amount of people that have a hands on learning preference still prefer online. Again the graphs shows a little more correlation that the visual learning one, but still and overall no correlation\n",
    "\n",
    "When we preformed a correlation test, it confirms our analysis being that tests are close to 0 meaning there is almost no correlation between the two columns. We also preformed the chi squared test on the data and saw that the learning styles are independent of preferring online or in-person"
   ]
  },
  {
   "cell_type": "markdown",
   "id": "f8e55291-9d45-4e36-afd3-5cfb4240984f",
   "metadata": {},
   "source": [
    "## 3.7 Relationship Between Hours On-Campus and Overall School Preferrence"
   ]
  },
  {
   "cell_type": "markdown",
   "id": "ee2af324-fcb2-4680-99d9-7e9b6dc17090",
   "metadata": {},
   "source": [
    "## Hypothisis #3.7:\n",
    "We hypothesize that people who spend less hours on campus will most likely prefer to have school online, as they probably prefer to do homework and study at home. We also assumed that their prefrence for online vs in-person will be dependent on how many hours they spend on campus."
   ]
  },
  {
   "cell_type": "code",
   "execution_count": 39,
   "id": "f0efd201-a7b3-48b6-953d-4df5cd44d239",
   "metadata": {},
   "outputs": [
    {
     "data": {
      "text/html": [
       "<div>\n",
       "<style scoped>\n",
       "    .dataframe tbody tr th:only-of-type {\n",
       "        vertical-align: middle;\n",
       "    }\n",
       "\n",
       "    .dataframe tbody tr th {\n",
       "        vertical-align: top;\n",
       "    }\n",
       "\n",
       "    .dataframe thead th {\n",
       "        text-align: right;\n",
       "    }\n",
       "</style>\n",
       "<table border=\"1\" class=\"dataframe\">\n",
       "  <thead>\n",
       "    <tr style=\"text-align: right;\">\n",
       "      <th>Overall, I prefer in-person vs. online.</th>\n",
       "      <th>0.0</th>\n",
       "      <th>1.0</th>\n",
       "      <th>2.0</th>\n",
       "      <th>4.0</th>\n",
       "      <th>5.0</th>\n",
       "    </tr>\n",
       "    <tr>\n",
       "      <th>On average, how many hours are you on campus per day?</th>\n",
       "      <th></th>\n",
       "      <th></th>\n",
       "      <th></th>\n",
       "      <th></th>\n",
       "      <th></th>\n",
       "    </tr>\n",
       "  </thead>\n",
       "  <tbody>\n",
       "    <tr>\n",
       "      <th>0.0</th>\n",
       "      <td>1</td>\n",
       "      <td>2</td>\n",
       "      <td>1</td>\n",
       "      <td>1</td>\n",
       "      <td>0</td>\n",
       "    </tr>\n",
       "    <tr>\n",
       "      <th>1.0</th>\n",
       "      <td>3</td>\n",
       "      <td>1</td>\n",
       "      <td>2</td>\n",
       "      <td>1</td>\n",
       "      <td>2</td>\n",
       "    </tr>\n",
       "    <tr>\n",
       "      <th>2.0</th>\n",
       "      <td>7</td>\n",
       "      <td>2</td>\n",
       "      <td>2</td>\n",
       "      <td>4</td>\n",
       "      <td>2</td>\n",
       "    </tr>\n",
       "    <tr>\n",
       "      <th>3.0</th>\n",
       "      <td>3</td>\n",
       "      <td>1</td>\n",
       "      <td>2</td>\n",
       "      <td>2</td>\n",
       "      <td>3</td>\n",
       "    </tr>\n",
       "    <tr>\n",
       "      <th>4.0</th>\n",
       "      <td>3</td>\n",
       "      <td>3</td>\n",
       "      <td>0</td>\n",
       "      <td>2</td>\n",
       "      <td>2</td>\n",
       "    </tr>\n",
       "    <tr>\n",
       "      <th>5.0</th>\n",
       "      <td>1</td>\n",
       "      <td>0</td>\n",
       "      <td>0</td>\n",
       "      <td>3</td>\n",
       "      <td>5</td>\n",
       "    </tr>\n",
       "    <tr>\n",
       "      <th>6.0</th>\n",
       "      <td>0</td>\n",
       "      <td>0</td>\n",
       "      <td>0</td>\n",
       "      <td>1</td>\n",
       "      <td>3</td>\n",
       "    </tr>\n",
       "    <tr>\n",
       "      <th>7.0</th>\n",
       "      <td>1</td>\n",
       "      <td>0</td>\n",
       "      <td>0</td>\n",
       "      <td>1</td>\n",
       "      <td>0</td>\n",
       "    </tr>\n",
       "    <tr>\n",
       "      <th>8.0</th>\n",
       "      <td>0</td>\n",
       "      <td>1</td>\n",
       "      <td>0</td>\n",
       "      <td>0</td>\n",
       "      <td>0</td>\n",
       "    </tr>\n",
       "    <tr>\n",
       "      <th>9.0</th>\n",
       "      <td>0</td>\n",
       "      <td>0</td>\n",
       "      <td>1</td>\n",
       "      <td>0</td>\n",
       "      <td>0</td>\n",
       "    </tr>\n",
       "    <tr>\n",
       "      <th>10.0</th>\n",
       "      <td>0</td>\n",
       "      <td>0</td>\n",
       "      <td>0</td>\n",
       "      <td>1</td>\n",
       "      <td>0</td>\n",
       "    </tr>\n",
       "    <tr>\n",
       "      <th>23.0</th>\n",
       "      <td>0</td>\n",
       "      <td>0</td>\n",
       "      <td>0</td>\n",
       "      <td>1</td>\n",
       "      <td>0</td>\n",
       "    </tr>\n",
       "    <tr>\n",
       "      <th>24.0</th>\n",
       "      <td>1</td>\n",
       "      <td>2</td>\n",
       "      <td>0</td>\n",
       "      <td>1</td>\n",
       "      <td>0</td>\n",
       "    </tr>\n",
       "  </tbody>\n",
       "</table>\n",
       "</div>"
      ],
      "text/plain": [
       "Overall, I prefer in-person vs. online.             0.0  1.0  2.0  4.0  5.0\n",
       "On average, how many hours are you on campus pe...                         \n",
       "0.0                                                   1    2    1    1    0\n",
       "1.0                                                   3    1    2    1    2\n",
       "2.0                                                   7    2    2    4    2\n",
       "3.0                                                   3    1    2    2    3\n",
       "4.0                                                   3    3    0    2    2\n",
       "5.0                                                   1    0    0    3    5\n",
       "6.0                                                   0    0    0    1    3\n",
       "7.0                                                   1    0    0    1    0\n",
       "8.0                                                   0    1    0    0    0\n",
       "9.0                                                   0    0    1    0    0\n",
       "10.0                                                  0    0    0    1    0\n",
       "23.0                                                  0    0    0    1    0\n",
       "24.0                                                  1    2    0    1    0"
      ]
     },
     "execution_count": 39,
     "metadata": {},
     "output_type": "execute_result"
    }
   ],
   "source": [
    "HoursOnCampus = pd.crosstab(df[\"On average, how many hours are you on campus per day?\"],df[\"Overall, I prefer in-person vs. online.\"])\n",
    "HoursOnCampus"
   ]
  },
  {
   "cell_type": "code",
   "execution_count": 40,
   "id": "e03aecef-1d2f-4d6d-b5bb-1d994e4a6f8e",
   "metadata": {},
   "outputs": [
    {
     "data": {
      "text/plain": [
       "<AxesSubplot:xlabel='On average, how many hours are you on campus per day?'>"
      ]
     },
     "execution_count": 40,
     "metadata": {},
     "output_type": "execute_result"
    },
    {
     "data": {
      "image/png": "[encoded data removed]",
      "text/plain": [
       "<Figure size 432x288 with 1 Axes>"
      ]
     },
     "metadata": {
      "needs_background": "light"
     },
     "output_type": "display_data"
    }
   ],
   "source": [
    "HoursOnCampus.plot.bar(stacked=True)"
   ]
  },
  {
   "cell_type": "markdown",
   "id": "390f7abc-209c-4b84-8026-c2d6e9048040",
   "metadata": {},
   "source": [
    "## Test #3.7 (Pearson and Chi-Squared):"
   ]
  },
  {
   "cell_type": "code",
   "execution_count": 41,
   "id": "2bd32b39-7db0-4851-bd74-d6e6d7a20824",
   "metadata": {},
   "outputs": [
    {
     "name": "stdout",
     "output_type": "stream",
     "text": [
      "Correlation between time on campus and Prefering online or inperson is:  0.034918746864344395\n"
     ]
    }
   ],
   "source": [
    "print(\"Correlation between time on campus and Prefering online or inperson is: \",df[\"Overall, I prefer in-person vs. online.\"].corr(df[\"On average, how many hours are you on campus per day?\"],method = 'pearson' ) )"
   ]
  },
  {
   "cell_type": "code",
   "execution_count": 42,
   "id": "989edacd-20af-48fc-9140-723fb4690b5e",
   "metadata": {},
   "outputs": [
    {
     "name": "stdout",
     "output_type": "stream",
     "text": [
      "chi square value:  52.49192691039577\n",
      "p value:  0.3041567222922587\n",
      "degree of freedom:  48\n",
      "expected frequencies when time spent on campus and school preferrence is independent:  [[1.33333333 0.8        0.53333333 1.2        1.13333333]\n",
      " [2.4        1.44       0.96       2.16       2.04      ]\n",
      " [4.53333333 2.72       1.81333333 4.08       3.85333333]\n",
      " [2.93333333 1.76       1.17333333 2.64       2.49333333]\n",
      " [2.66666667 1.6        1.06666667 2.4        2.26666667]\n",
      " [2.4        1.44       0.96       2.16       2.04      ]\n",
      " [1.06666667 0.64       0.42666667 0.96       0.90666667]\n",
      " [0.53333333 0.32       0.21333333 0.48       0.45333333]\n",
      " [0.26666667 0.16       0.10666667 0.24       0.22666667]\n",
      " [0.26666667 0.16       0.10666667 0.24       0.22666667]\n",
      " [0.26666667 0.16       0.10666667 0.24       0.22666667]\n",
      " [0.26666667 0.16       0.10666667 0.24       0.22666667]\n",
      " [1.06666667 0.64       0.42666667 0.96       0.90666667]]\n",
      "for 48 degree of freedom, the chi-square valued needed to reject the hypothesis at the 0.001 significance level:\n"
     ]
    },
    {
     "data": {
      "text/plain": [
       "84.03713371722348"
      ]
     },
     "execution_count": 42,
     "metadata": {},
     "output_type": "execute_result"
    }
   ],
   "source": [
    "data = HoursOnCampus\n",
    "chi, p, dfree, expected = chi2_contingency(data)\n",
    "print(\"chi square value: \" ,chi)\n",
    "print(\"p value: \", p)\n",
    "print(\"degree of freedom: \", dfree)\n",
    "print(\"expected frequencies when time spent on campus and school preferrence is independent: \", expected)\n",
    "from scipy.stats import chi2\n",
    "print(\"for 48 degree of freedom, the chi-square valued needed to reject the hypothesis at the 0.001 significance level:\")\n",
    "chi2.ppf(0.999, 48)"
   ]
  },
  {
   "cell_type": "markdown",
   "id": "32cb7454-fdc0-4487-aed1-da62ba74545f",
   "metadata": {},
   "source": [
    "# Results\n",
    "Our prediction for a correlation between time spent on campus and in-person v online was that people who spend less time on campus would likely prefer online class and people who spend more time on campus would prefer in-person class. When making a visualization of this relationship using a bar graph, it showed that a majority of people who spend less time on campus wanted to have online classes. However there were also quite a few people who wanted in person classe, but did not spend a lot of time on campus. As for people that spent greater than 6 hours on campus it seemed that a majorty of them were prefering in person or netrual. This somewhat matches our hypothisis, however, we did not account for as many people that wanted in-person to also spend less time on campus.\n",
    "\n",
    "We can see that doing a correlation test we see the columns are not corrilated. This is likely due to the high number of people that spend 6 hours or less on campus\n",
    "\n",
    "We also see that in the Chi Squared test that once again the amount of hours students spend on campus is independant of their online vs in-person prefrence"
   ]
  },
  {
   "cell_type": "markdown",
   "id": "5d164896-9838-48ff-9e78-ae92f51d764c",
   "metadata": {},
   "source": [
    "## Mini-Project Answers"
   ]
  },
  {
   "cell_type": "markdown",
   "id": "a4f4bf7c-fcdb-42c2-99e9-96b612f180f0",
   "metadata": {},
   "source": [
    "## Question 1:\n",
    "Our data contains survey responses from students of CS 105 and CS 111."
   ]
  },
  {
   "cell_type": "markdown",
   "id": "934af7bd-746b-4d0b-b781-c330dd01ca9e",
   "metadata": {},
   "source": [
    "## Question 2:\n",
    "If there are correlations between overall preferences of in-person and online and other factors. (Such as gender, transfer student or non transfer student, learning style, average hours student stays on the campus, etc…)"
   ]
  },
  {
   "cell_type": "markdown",
   "id": "169f80cf-89e8-4f2b-8aec-4f4cf1257fdd",
   "metadata": {},
   "source": [
    "## Question 3:\n",
    "1. We found the corresponding values by counting the frequency of GPAs based on a certain school preferrence.\n",
    "2. We Found the corresponding values by counting the frequency of different learning styles based on a certain school preferrence.\n",
    "3. We use value_counting functions to find out frequencies from the data. By using Pie chart visualisation, we find out the distribution of student's preferences.\n",
    "4. We use value_counting functions to find out frequencies from the data. By using bar graphs to compare how frequencies are differently distributed.\n",
    "5. We created a cross tabulation of the student's gender and compared to school preference. We then made a histogram to visualize if there is a correlation.\n",
    "6. We created a cross tabulation of visual learning and hands on learning compared to school preference. We then made a scatter plot to visualize if there is a correlation.\n",
    "7. We created a cross tabulation of hours spent on campus and overall school preference. We then made a bar graph to see the distribution of students and how long they spend on campus."
   ]
  },
  {
   "cell_type": "markdown",
   "id": "3bd641f7-bd5f-42d2-844a-4a63a8f86317",
   "metadata": {},
   "source": [
    "## Question 4:\n",
    "1. We hypothesize that students prefer online school more than in-person school because they perform better GPAs wise when learning online.  \n",
    "2. We hypothesize that kinesthetic learners will prefer in-person school due to more hands-on activities and learners who prefer reading/visual would like online school more due to more visuals and the ability to google search and read easily. \n",
    "3. Students' preferences of in_person and online methods have a correlation with whether students are transfer students or not. We assumed that transfer sutdent would like to prefer in_person and Non-transfer student would like to prepfer online method.\n",
    "4. If students prefer online classes, then they will also prefer online method of social interaction and will be more productive on online classes. If student prefer in-person classes, then they will also prefer in-person method of social interaction and will be more productive on in-person classes\n",
    "5. We hypothesize that more students regardless of their gender will prefer online learning as opposed to in-person learning because they save more time, money, and they perform better in school.\n",
    "6. We hypothesize that students who have a higher prefrence for hands on learning will have a negative correlation to online vs inperson prefrence, meaning students who are strong hands on learners will perefer to have in-person classes. We also think that visual learners will prefer online classes. We also assume that prefering to have in-person classes is dependent on having a strong visual and hands on learning prefrence.\n",
    "7. We hypothesize that people who spend less hours on campus will most likely prefer to have school online, as they probably prefer to do homework and study at home. We also assumed that their prefrence for online vs in-person will be dependent on how many hours they spend on campus.\n",
    "\n",
    "To verify our hypothesis we used the Chi-Squared Test and the Pearson Correlation Test"
   ]
  },
  {
   "cell_type": "markdown",
   "id": "1c1e2ef0-6bfa-4c68-b34c-a881d0c8a435",
   "metadata": {},
   "source": [
    "## Question 5:\n",
    "Reference:\n",
    "1. Test #3.1 (Pearson and Chi-Squared)\n",
    "2. Test #3.2 (Pearson and Chi-Squared)\n",
    "3. Test #3.3 (Pearson)\n",
    "4. Test #3.4 (Pearson)\n",
    "5. Test #3.5 (Pearson and Chi-Squared)\n",
    "6. Test #3.6 (Pearson and Chi-Squared)\n",
    "7. Test #3.7 (Pearson and Chi-Squared)"
   ]
  },
  {
   "cell_type": "code",
   "execution_count": null,
   "id": "ab5b6c4a-bcc8-4806-98e5-a8c8868b1857",
   "metadata": {},
   "outputs": [],
   "source": []
  }
 ],
 "metadata": {
  "kernelspec": {
   "display_name": "Python 3 (ipykernel)",
   "language": "python",
   "name": "python3"
  },
  "language_info": {
   "codemirror_mode": {
    "name": "ipython",
    "version": 3
   },
   "file_extension": ".py",
   "mimetype": "text/x-python",
   "name": "python",
   "nbconvert_exporter": "python",
   "pygments_lexer": "ipython3",
   "version": "3.9.7"
  }
 },
 "nbformat": 4,
 "nbformat_minor": 5
}
